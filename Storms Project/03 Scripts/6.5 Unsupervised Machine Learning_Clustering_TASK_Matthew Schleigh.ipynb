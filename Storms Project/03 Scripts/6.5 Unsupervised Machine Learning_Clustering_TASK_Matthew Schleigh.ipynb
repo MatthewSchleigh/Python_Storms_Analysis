{
 "cells": [
  {
   "cell_type": "markdown",
   "id": "7e26a371",
   "metadata": {},
   "source": [
    "# TASK"
   ]
  },
  {
   "cell_type": "markdown",
   "id": "2c9a7781",
   "metadata": {},
   "source": [
    "# ================="
   ]
  },
  {
   "cell_type": "markdown",
   "id": "84c7ad8b",
   "metadata": {},
   "source": [
    "## In this notebook, find procedures related to unsupervised machine learning on the Atlantic basin Storms Project, including:\n",
    "### -Elbow technique\n",
    "### -k-means algorithm\n",
    "### -Cluster visualizations\n",
    "### -Findings and reflections"
   ]
  },
  {
   "cell_type": "markdown",
   "id": "a00b9005",
   "metadata": {},
   "source": [
    "# ================="
   ]
  },
  {
   "cell_type": "markdown",
   "id": "cee2becc",
   "metadata": {},
   "source": [
    "# Import libraries and data"
   ]
  },
  {
   "cell_type": "code",
   "execution_count": 1,
   "id": "9c218f62",
   "metadata": {},
   "outputs": [],
   "source": [
    "import pandas as pd\n",
    "import numpy as np\n",
    "import seaborn as sns\n",
    "import matplotlib\n",
    "import matplotlib.pyplot as plt\n",
    "import os\n",
    "import sklearn\n",
    "from sklearn.cluster import KMeans # Here is where you import the k-means algorithm from scikit-learn.\n",
    "import pylab as pl # PyLab is a convenience module that bulk imports matplotlib."
   ]
  },
  {
   "cell_type": "code",
   "execution_count": 2,
   "id": "80223bf9",
   "metadata": {},
   "outputs": [],
   "source": [
    "# This option ensures the graphs you create are displayed in your notebook without the need to \"call\" them specifically.\n",
    "\n",
    "%matplotlib inline"
   ]
  },
  {
   "cell_type": "code",
   "execution_count": 3,
   "id": "2258ea51",
   "metadata": {},
   "outputs": [],
   "source": [
    "# Define path\n",
    "\n",
    "path = r'/Users/matthewschleigh/Desktop/CareerFoundry/Achievement 6/Storms Project'"
   ]
  },
  {
   "cell_type": "code",
   "execution_count": 4,
   "id": "cd187583",
   "metadata": {},
   "outputs": [],
   "source": [
    "# Import data\n",
    "\n",
    "df = pd.read_csv(os.path.join(path, '02 Data', 'Prepared Data', 'storms_states.csv'))"
   ]
  },
  {
   "cell_type": "code",
   "execution_count": 5,
   "id": "d95c52cb",
   "metadata": {},
   "outputs": [
    {
     "data": {
      "text/plain": [
       "(885, 17)"
      ]
     },
     "execution_count": 5,
     "metadata": {},
     "output_type": "execute_result"
    }
   ],
   "source": [
    "# Check output\n",
    "\n",
    "df.shape"
   ]
  },
  {
   "cell_type": "code",
   "execution_count": 6,
   "id": "f6de5303",
   "metadata": {},
   "outputs": [
    {
     "data": {
      "text/html": [
       "<div>\n",
       "<style scoped>\n",
       "    .dataframe tbody tr th:only-of-type {\n",
       "        vertical-align: middle;\n",
       "    }\n",
       "\n",
       "    .dataframe tbody tr th {\n",
       "        vertical-align: top;\n",
       "    }\n",
       "\n",
       "    .dataframe thead th {\n",
       "        text-align: right;\n",
       "    }\n",
       "</style>\n",
       "<table border=\"1\" class=\"dataframe\">\n",
       "  <thead>\n",
       "    <tr style=\"text-align: right;\">\n",
       "      <th></th>\n",
       "      <th>Unnamed: 0</th>\n",
       "      <th>name</th>\n",
       "      <th>year</th>\n",
       "      <th>month</th>\n",
       "      <th>day</th>\n",
       "      <th>hour</th>\n",
       "      <th>latitude</th>\n",
       "      <th>longitude</th>\n",
       "      <th>status</th>\n",
       "      <th>category</th>\n",
       "      <th>wind_knots</th>\n",
       "      <th>pressure_hpa</th>\n",
       "      <th>trop_storm_force_wind_diameter</th>\n",
       "      <th>hurricane_force_wind_diameter</th>\n",
       "      <th>geom</th>\n",
       "      <th>address_full</th>\n",
       "      <th>state</th>\n",
       "    </tr>\n",
       "  </thead>\n",
       "  <tbody>\n",
       "    <tr>\n",
       "      <th>0</th>\n",
       "      <td>0</td>\n",
       "      <td>Belle</td>\n",
       "      <td>1976</td>\n",
       "      <td>8</td>\n",
       "      <td>10</td>\n",
       "      <td>6</td>\n",
       "      <td>41.0</td>\n",
       "      <td>-73.2</td>\n",
       "      <td>tropical storm</td>\n",
       "      <td>0</td>\n",
       "      <td>60</td>\n",
       "      <td>983</td>\n",
       "      <td>0</td>\n",
       "      <td>0</td>\n",
       "      <td>41.0,-73.2</td>\n",
       "      <td>Town of Smithtown, Suffolk County, New York, U...</td>\n",
       "      <td>Pennsylvania</td>\n",
       "    </tr>\n",
       "    <tr>\n",
       "      <th>1</th>\n",
       "      <td>1</td>\n",
       "      <td>Belle</td>\n",
       "      <td>1976</td>\n",
       "      <td>8</td>\n",
       "      <td>10</td>\n",
       "      <td>12</td>\n",
       "      <td>42.6</td>\n",
       "      <td>-72.4</td>\n",
       "      <td>tropical storm</td>\n",
       "      <td>0</td>\n",
       "      <td>35</td>\n",
       "      <td>992</td>\n",
       "      <td>0</td>\n",
       "      <td>0</td>\n",
       "      <td>42.6,-72.4</td>\n",
       "      <td>2, Hanson Court, Erving, Franklin County, Mass...</td>\n",
       "      <td>South Carolina</td>\n",
       "    </tr>\n",
       "    <tr>\n",
       "      <th>2</th>\n",
       "      <td>2</td>\n",
       "      <td>Clara</td>\n",
       "      <td>1977</td>\n",
       "      <td>9</td>\n",
       "      <td>5</td>\n",
       "      <td>12</td>\n",
       "      <td>32.8</td>\n",
       "      <td>-80.0</td>\n",
       "      <td>tropical depression</td>\n",
       "      <td>-1</td>\n",
       "      <td>20</td>\n",
       "      <td>1015</td>\n",
       "      <td>0</td>\n",
       "      <td>0</td>\n",
       "      <td>32.8,-80.0</td>\n",
       "      <td>Fuseler Road, Murry Hill, Charleston, Charlest...</td>\n",
       "      <td>South Carolina</td>\n",
       "    </tr>\n",
       "    <tr>\n",
       "      <th>3</th>\n",
       "      <td>3</td>\n",
       "      <td>Clara</td>\n",
       "      <td>1977</td>\n",
       "      <td>9</td>\n",
       "      <td>5</td>\n",
       "      <td>18</td>\n",
       "      <td>33.2</td>\n",
       "      <td>-79.0</td>\n",
       "      <td>tropical depression</td>\n",
       "      <td>-1</td>\n",
       "      <td>20</td>\n",
       "      <td>1014</td>\n",
       "      <td>0</td>\n",
       "      <td>0</td>\n",
       "      <td>33.2,-79.0</td>\n",
       "      <td>United States</td>\n",
       "      <td>South Carolina</td>\n",
       "    </tr>\n",
       "    <tr>\n",
       "      <th>4</th>\n",
       "      <td>4</td>\n",
       "      <td>Amelia</td>\n",
       "      <td>1978</td>\n",
       "      <td>7</td>\n",
       "      <td>31</td>\n",
       "      <td>18</td>\n",
       "      <td>28.6</td>\n",
       "      <td>-98.7</td>\n",
       "      <td>tropical depression</td>\n",
       "      <td>-1</td>\n",
       "      <td>30</td>\n",
       "      <td>1010</td>\n",
       "      <td>0</td>\n",
       "      <td>0</td>\n",
       "      <td>28.6,-98.7</td>\n",
       "      <td>McMullen County, Texas, United States</td>\n",
       "      <td>South Carolina</td>\n",
       "    </tr>\n",
       "  </tbody>\n",
       "</table>\n",
       "</div>"
      ],
      "text/plain": [
       "   Unnamed: 0    name  year  month  day  hour  latitude  longitude  \\\n",
       "0           0   Belle  1976      8   10     6      41.0      -73.2   \n",
       "1           1   Belle  1976      8   10    12      42.6      -72.4   \n",
       "2           2   Clara  1977      9    5    12      32.8      -80.0   \n",
       "3           3   Clara  1977      9    5    18      33.2      -79.0   \n",
       "4           4  Amelia  1978      7   31    18      28.6      -98.7   \n",
       "\n",
       "                status  category  wind_knots  pressure_hpa  \\\n",
       "0       tropical storm         0          60           983   \n",
       "1       tropical storm         0          35           992   \n",
       "2  tropical depression        -1          20          1015   \n",
       "3  tropical depression        -1          20          1014   \n",
       "4  tropical depression        -1          30          1010   \n",
       "\n",
       "   trop_storm_force_wind_diameter  hurricane_force_wind_diameter        geom  \\\n",
       "0                               0                              0  41.0,-73.2   \n",
       "1                               0                              0  42.6,-72.4   \n",
       "2                               0                              0  32.8,-80.0   \n",
       "3                               0                              0  33.2,-79.0   \n",
       "4                               0                              0  28.6,-98.7   \n",
       "\n",
       "                                        address_full           state  \n",
       "0  Town of Smithtown, Suffolk County, New York, U...    Pennsylvania  \n",
       "1  2, Hanson Court, Erving, Franklin County, Mass...  South Carolina  \n",
       "2  Fuseler Road, Murry Hill, Charleston, Charlest...  South Carolina  \n",
       "3                                      United States  South Carolina  \n",
       "4              McMullen County, Texas, United States  South Carolina  "
      ]
     },
     "execution_count": 6,
     "metadata": {},
     "output_type": "execute_result"
    }
   ],
   "source": [
    "df.head()"
   ]
  },
  {
   "cell_type": "code",
   "execution_count": 7,
   "id": "e7351c47",
   "metadata": {},
   "outputs": [],
   "source": [
    "# remove unwanted column\n",
    "\n",
    "df = df.drop(columns = ['Unnamed: 0'])"
   ]
  },
  {
   "cell_type": "code",
   "execution_count": 8,
   "id": "193d5305",
   "metadata": {},
   "outputs": [
    {
     "data": {
      "text/html": [
       "<div>\n",
       "<style scoped>\n",
       "    .dataframe tbody tr th:only-of-type {\n",
       "        vertical-align: middle;\n",
       "    }\n",
       "\n",
       "    .dataframe tbody tr th {\n",
       "        vertical-align: top;\n",
       "    }\n",
       "\n",
       "    .dataframe thead th {\n",
       "        text-align: right;\n",
       "    }\n",
       "</style>\n",
       "<table border=\"1\" class=\"dataframe\">\n",
       "  <thead>\n",
       "    <tr style=\"text-align: right;\">\n",
       "      <th></th>\n",
       "      <th>name</th>\n",
       "      <th>year</th>\n",
       "      <th>month</th>\n",
       "      <th>day</th>\n",
       "      <th>hour</th>\n",
       "      <th>latitude</th>\n",
       "      <th>longitude</th>\n",
       "      <th>status</th>\n",
       "      <th>category</th>\n",
       "      <th>wind_knots</th>\n",
       "      <th>pressure_hpa</th>\n",
       "      <th>trop_storm_force_wind_diameter</th>\n",
       "      <th>hurricane_force_wind_diameter</th>\n",
       "      <th>geom</th>\n",
       "      <th>address_full</th>\n",
       "      <th>state</th>\n",
       "    </tr>\n",
       "  </thead>\n",
       "  <tbody>\n",
       "    <tr>\n",
       "      <th>0</th>\n",
       "      <td>Belle</td>\n",
       "      <td>1976</td>\n",
       "      <td>8</td>\n",
       "      <td>10</td>\n",
       "      <td>6</td>\n",
       "      <td>41.0</td>\n",
       "      <td>-73.2</td>\n",
       "      <td>tropical storm</td>\n",
       "      <td>0</td>\n",
       "      <td>60</td>\n",
       "      <td>983</td>\n",
       "      <td>0</td>\n",
       "      <td>0</td>\n",
       "      <td>41.0,-73.2</td>\n",
       "      <td>Town of Smithtown, Suffolk County, New York, U...</td>\n",
       "      <td>Pennsylvania</td>\n",
       "    </tr>\n",
       "    <tr>\n",
       "      <th>1</th>\n",
       "      <td>Belle</td>\n",
       "      <td>1976</td>\n",
       "      <td>8</td>\n",
       "      <td>10</td>\n",
       "      <td>12</td>\n",
       "      <td>42.6</td>\n",
       "      <td>-72.4</td>\n",
       "      <td>tropical storm</td>\n",
       "      <td>0</td>\n",
       "      <td>35</td>\n",
       "      <td>992</td>\n",
       "      <td>0</td>\n",
       "      <td>0</td>\n",
       "      <td>42.6,-72.4</td>\n",
       "      <td>2, Hanson Court, Erving, Franklin County, Mass...</td>\n",
       "      <td>South Carolina</td>\n",
       "    </tr>\n",
       "    <tr>\n",
       "      <th>2</th>\n",
       "      <td>Clara</td>\n",
       "      <td>1977</td>\n",
       "      <td>9</td>\n",
       "      <td>5</td>\n",
       "      <td>12</td>\n",
       "      <td>32.8</td>\n",
       "      <td>-80.0</td>\n",
       "      <td>tropical depression</td>\n",
       "      <td>-1</td>\n",
       "      <td>20</td>\n",
       "      <td>1015</td>\n",
       "      <td>0</td>\n",
       "      <td>0</td>\n",
       "      <td>32.8,-80.0</td>\n",
       "      <td>Fuseler Road, Murry Hill, Charleston, Charlest...</td>\n",
       "      <td>South Carolina</td>\n",
       "    </tr>\n",
       "    <tr>\n",
       "      <th>3</th>\n",
       "      <td>Clara</td>\n",
       "      <td>1977</td>\n",
       "      <td>9</td>\n",
       "      <td>5</td>\n",
       "      <td>18</td>\n",
       "      <td>33.2</td>\n",
       "      <td>-79.0</td>\n",
       "      <td>tropical depression</td>\n",
       "      <td>-1</td>\n",
       "      <td>20</td>\n",
       "      <td>1014</td>\n",
       "      <td>0</td>\n",
       "      <td>0</td>\n",
       "      <td>33.2,-79.0</td>\n",
       "      <td>United States</td>\n",
       "      <td>South Carolina</td>\n",
       "    </tr>\n",
       "    <tr>\n",
       "      <th>4</th>\n",
       "      <td>Amelia</td>\n",
       "      <td>1978</td>\n",
       "      <td>7</td>\n",
       "      <td>31</td>\n",
       "      <td>18</td>\n",
       "      <td>28.6</td>\n",
       "      <td>-98.7</td>\n",
       "      <td>tropical depression</td>\n",
       "      <td>-1</td>\n",
       "      <td>30</td>\n",
       "      <td>1010</td>\n",
       "      <td>0</td>\n",
       "      <td>0</td>\n",
       "      <td>28.6,-98.7</td>\n",
       "      <td>McMullen County, Texas, United States</td>\n",
       "      <td>South Carolina</td>\n",
       "    </tr>\n",
       "  </tbody>\n",
       "</table>\n",
       "</div>"
      ],
      "text/plain": [
       "     name  year  month  day  hour  latitude  longitude               status  \\\n",
       "0   Belle  1976      8   10     6      41.0      -73.2       tropical storm   \n",
       "1   Belle  1976      8   10    12      42.6      -72.4       tropical storm   \n",
       "2   Clara  1977      9    5    12      32.8      -80.0  tropical depression   \n",
       "3   Clara  1977      9    5    18      33.2      -79.0  tropical depression   \n",
       "4  Amelia  1978      7   31    18      28.6      -98.7  tropical depression   \n",
       "\n",
       "   category  wind_knots  pressure_hpa  trop_storm_force_wind_diameter  \\\n",
       "0         0          60           983                               0   \n",
       "1         0          35           992                               0   \n",
       "2        -1          20          1015                               0   \n",
       "3        -1          20          1014                               0   \n",
       "4        -1          30          1010                               0   \n",
       "\n",
       "   hurricane_force_wind_diameter        geom  \\\n",
       "0                              0  41.0,-73.2   \n",
       "1                              0  42.6,-72.4   \n",
       "2                              0  32.8,-80.0   \n",
       "3                              0  33.2,-79.0   \n",
       "4                              0  28.6,-98.7   \n",
       "\n",
       "                                        address_full           state  \n",
       "0  Town of Smithtown, Suffolk County, New York, U...    Pennsylvania  \n",
       "1  2, Hanson Court, Erving, Franklin County, Mass...  South Carolina  \n",
       "2  Fuseler Road, Murry Hill, Charleston, Charlest...  South Carolina  \n",
       "3                                      United States  South Carolina  \n",
       "4              McMullen County, Texas, United States  South Carolina  "
      ]
     },
     "execution_count": 8,
     "metadata": {},
     "output_type": "execute_result"
    }
   ],
   "source": [
    "df.head()"
   ]
  },
  {
   "cell_type": "markdown",
   "id": "bea7b3b9",
   "metadata": {},
   "source": [
    "## Conduct any necessary cleaning, manipulations, and reprocessing (such as renaming). (Step 2)"
   ]
  },
  {
   "cell_type": "code",
   "execution_count": 9,
   "id": "4f3ca9b4",
   "metadata": {},
   "outputs": [
    {
     "data": {
      "text/plain": [
       "name                               object\n",
       "year                                int64\n",
       "month                               int64\n",
       "day                                 int64\n",
       "hour                                int64\n",
       "latitude                          float64\n",
       "longitude                         float64\n",
       "status                             object\n",
       "category                            int64\n",
       "wind_knots                          int64\n",
       "pressure_hpa                        int64\n",
       "trop_storm_force_wind_diameter      int64\n",
       "hurricane_force_wind_diameter       int64\n",
       "geom                               object\n",
       "address_full                       object\n",
       "state                              object\n",
       "dtype: object"
      ]
     },
     "execution_count": 9,
     "metadata": {},
     "output_type": "execute_result"
    }
   ],
   "source": [
    "# Check data types for any categorical data\n",
    "\n",
    "df.dtypes"
   ]
  },
  {
   "cell_type": "code",
   "execution_count": 10,
   "id": "d8615835",
   "metadata": {},
   "outputs": [],
   "source": [
    "# Remove any categorical variables\n",
    "\n",
    "kdf = df.drop(columns = ['name', 'year', 'month', 'day', 'hour', 'status', 'category', 'geom', 'address_full', 'state'])"
   ]
  },
  {
   "cell_type": "code",
   "execution_count": 11,
   "id": "26b1e772",
   "metadata": {},
   "outputs": [
    {
     "data": {
      "text/plain": [
       "Index(['latitude', 'longitude', 'wind_knots', 'pressure_hpa',\n",
       "       'trop_storm_force_wind_diameter', 'hurricane_force_wind_diameter'],\n",
       "      dtype='object')"
      ]
     },
     "execution_count": 11,
     "metadata": {},
     "output_type": "execute_result"
    }
   ],
   "source": [
    "kdf.columns"
   ]
  },
  {
   "cell_type": "code",
   "execution_count": 12,
   "id": "ff7dd1c3",
   "metadata": {},
   "outputs": [
    {
     "data": {
      "text/html": [
       "<div>\n",
       "<style scoped>\n",
       "    .dataframe tbody tr th:only-of-type {\n",
       "        vertical-align: middle;\n",
       "    }\n",
       "\n",
       "    .dataframe tbody tr th {\n",
       "        vertical-align: top;\n",
       "    }\n",
       "\n",
       "    .dataframe thead th {\n",
       "        text-align: right;\n",
       "    }\n",
       "</style>\n",
       "<table border=\"1\" class=\"dataframe\">\n",
       "  <thead>\n",
       "    <tr style=\"text-align: right;\">\n",
       "      <th></th>\n",
       "      <th>latitude</th>\n",
       "      <th>longitude</th>\n",
       "      <th>wind_knots</th>\n",
       "      <th>pressure_hpa</th>\n",
       "      <th>trop_storm_force_wind_diameter</th>\n",
       "      <th>hurricane_force_wind_diameter</th>\n",
       "    </tr>\n",
       "  </thead>\n",
       "  <tbody>\n",
       "    <tr>\n",
       "      <th>count</th>\n",
       "      <td>885.000000</td>\n",
       "      <td>885.000000</td>\n",
       "      <td>885.000000</td>\n",
       "      <td>885.000000</td>\n",
       "      <td>885.00000</td>\n",
       "      <td>885.000000</td>\n",
       "    </tr>\n",
       "    <tr>\n",
       "      <th>mean</th>\n",
       "      <td>32.458079</td>\n",
       "      <td>-87.024633</td>\n",
       "      <td>39.265537</td>\n",
       "      <td>996.671186</td>\n",
       "      <td>36.80226</td>\n",
       "      <td>2.943503</td>\n",
       "    </tr>\n",
       "    <tr>\n",
       "      <th>std</th>\n",
       "      <td>3.157809</td>\n",
       "      <td>6.913944</td>\n",
       "      <td>21.518239</td>\n",
       "      <td>15.659388</td>\n",
       "      <td>76.33577</td>\n",
       "      <td>14.134422</td>\n",
       "    </tr>\n",
       "    <tr>\n",
       "      <th>min</th>\n",
       "      <td>28.100000</td>\n",
       "      <td>-104.300000</td>\n",
       "      <td>10.000000</td>\n",
       "      <td>919.000000</td>\n",
       "      <td>0.00000</td>\n",
       "      <td>0.000000</td>\n",
       "    </tr>\n",
       "    <tr>\n",
       "      <th>25%</th>\n",
       "      <td>30.000000</td>\n",
       "      <td>-92.600000</td>\n",
       "      <td>25.000000</td>\n",
       "      <td>991.000000</td>\n",
       "      <td>0.00000</td>\n",
       "      <td>0.000000</td>\n",
       "    </tr>\n",
       "    <tr>\n",
       "      <th>50%</th>\n",
       "      <td>31.700000</td>\n",
       "      <td>-87.100000</td>\n",
       "      <td>30.000000</td>\n",
       "      <td>1001.000000</td>\n",
       "      <td>0.00000</td>\n",
       "      <td>0.000000</td>\n",
       "    </tr>\n",
       "    <tr>\n",
       "      <th>75%</th>\n",
       "      <td>34.200000</td>\n",
       "      <td>-81.700000</td>\n",
       "      <td>50.000000</td>\n",
       "      <td>1007.000000</td>\n",
       "      <td>0.00000</td>\n",
       "      <td>0.000000</td>\n",
       "    </tr>\n",
       "    <tr>\n",
       "      <th>max</th>\n",
       "      <td>44.100000</td>\n",
       "      <td>-69.100000</td>\n",
       "      <td>140.000000</td>\n",
       "      <td>1022.000000</td>\n",
       "      <td>350.00000</td>\n",
       "      <td>165.000000</td>\n",
       "    </tr>\n",
       "  </tbody>\n",
       "</table>\n",
       "</div>"
      ],
      "text/plain": [
       "         latitude   longitude  wind_knots  pressure_hpa  \\\n",
       "count  885.000000  885.000000  885.000000    885.000000   \n",
       "mean    32.458079  -87.024633   39.265537    996.671186   \n",
       "std      3.157809    6.913944   21.518239     15.659388   \n",
       "min     28.100000 -104.300000   10.000000    919.000000   \n",
       "25%     30.000000  -92.600000   25.000000    991.000000   \n",
       "50%     31.700000  -87.100000   30.000000   1001.000000   \n",
       "75%     34.200000  -81.700000   50.000000   1007.000000   \n",
       "max     44.100000  -69.100000  140.000000   1022.000000   \n",
       "\n",
       "       trop_storm_force_wind_diameter  hurricane_force_wind_diameter  \n",
       "count                       885.00000                     885.000000  \n",
       "mean                         36.80226                       2.943503  \n",
       "std                          76.33577                      14.134422  \n",
       "min                           0.00000                       0.000000  \n",
       "25%                           0.00000                       0.000000  \n",
       "50%                           0.00000                       0.000000  \n",
       "75%                           0.00000                       0.000000  \n",
       "max                         350.00000                     165.000000  "
      ]
     },
     "execution_count": 12,
     "metadata": {},
     "output_type": "execute_result"
    }
   ],
   "source": [
    "# Check stats to determine if standardization is necessary for scale\n",
    "\n",
    "kdf.describe()"
   ]
  },
  {
   "cell_type": "markdown",
   "id": "6ee7d9fa",
   "metadata": {},
   "source": [
    "## Use the elbow technique as shown in the Jupyter notebook for this Exercise. (Step 3)"
   ]
  },
  {
   "cell_type": "code",
   "execution_count": 13,
   "id": "baf1b6ed",
   "metadata": {},
   "outputs": [],
   "source": [
    "# Define cluster range\n",
    "\n",
    "num_cl = range(1, 10)\n",
    "kmeans = [KMeans(n_clusters=i) for i in num_cl]"
   ]
  },
  {
   "cell_type": "code",
   "execution_count": 14,
   "id": "60d08fd3",
   "metadata": {},
   "outputs": [
    {
     "data": {
      "text/plain": [
       "[-6004974.042485877,\n",
       " -1527107.6513841674,\n",
       " -981356.0639226518,\n",
       " -700789.0046048635,\n",
       " -520506.2701408892,\n",
       " -436500.7813974684,\n",
       " -374542.3033091517,\n",
       " -322649.5391207634,\n",
       " -285088.49900604854]"
      ]
     },
     "execution_count": 14,
     "metadata": {},
     "output_type": "execute_result"
    }
   ],
   "source": [
    "# Create score for variation range\n",
    "\n",
    "score = [kmeans[i].fit(kdf).score(kdf) for i in range(len(kmeans))] \n",
    "\n",
    "score"
   ]
  },
  {
   "cell_type": "code",
   "execution_count": 15,
   "id": "9db78c2b",
   "metadata": {},
   "outputs": [
    {
     "data": {
      "image/png": "[encoded data removed]",
      "text/plain": [
       "<Figure size 432x288 with 1 Axes>"
      ]
     },
     "metadata": {
      "needs_background": "light"
     },
     "output_type": "display_data"
    }
   ],
   "source": [
    "# Plot the elbow curve using PyLab.\n",
    "\n",
    "pl.plot(num_cl,score)\n",
    "pl.xlabel('Number of Clusters')\n",
    "pl.ylabel('Score')\n",
    "pl.title('Elbow Curve')\n",
    "pl.show()"
   ]
  },
  {
   "cell_type": "markdown",
   "id": "52473805",
   "metadata": {},
   "source": [
    "## Make an informed decision about the number of clusters you’ll use in your k-means algorithm based on the chart. Explain why you chose that number in a markdown cell. (Step 4)"
   ]
  },
  {
   "cell_type": "markdown",
   "id": "cd59f7f3",
   "metadata": {},
   "source": [
    "##### I'm going to use only 2 clusters for my k-means algorithm because the elbow curve in the plot above occurs after 2 clusters. The line sharply bends at the value of 2, while only slightly tapering from that point onward, suggesting that examining more than 2 clusters does not reveal any additional insight into variable relationships."
   ]
  },
  {
   "cell_type": "markdown",
   "id": "0b713e58",
   "metadata": {},
   "source": [
    "## Run the k-means algorithm. (Step 5)"
   ]
  },
  {
   "cell_type": "code",
   "execution_count": 16,
   "id": "50cb6b91",
   "metadata": {},
   "outputs": [],
   "source": [
    "# Create the k-means object.\n",
    "\n",
    "kmeans = KMeans(n_clusters = 2) # I chose 2 clusters to examine"
   ]
  },
  {
   "cell_type": "code",
   "execution_count": 17,
   "id": "17a13b9f",
   "metadata": {},
   "outputs": [
    {
     "data": {
      "text/plain": [
       "KMeans(n_clusters=2)"
      ]
     },
     "execution_count": 17,
     "metadata": {},
     "output_type": "execute_result"
    }
   ],
   "source": [
    "# Fit the k-means object to the data.\n",
    "\n",
    "kmeans.fit(kdf)"
   ]
  },
  {
   "cell_type": "markdown",
   "id": "a3cede6f",
   "metadata": {},
   "source": [
    "## Attach a new column to your dataframe with the resulting clusters as shown in the Exercise. This will allow you to create a visualization using your clusters. (Step 6)"
   ]
  },
  {
   "cell_type": "code",
   "execution_count": 18,
   "id": "f3195ecf",
   "metadata": {},
   "outputs": [],
   "source": [
    "kdf['clusters'] = kmeans.fit_predict(kdf)"
   ]
  },
  {
   "cell_type": "code",
   "execution_count": 19,
   "id": "dbf07d60",
   "metadata": {},
   "outputs": [
    {
     "data": {
      "text/html": [
       "<div>\n",
       "<style scoped>\n",
       "    .dataframe tbody tr th:only-of-type {\n",
       "        vertical-align: middle;\n",
       "    }\n",
       "\n",
       "    .dataframe tbody tr th {\n",
       "        vertical-align: top;\n",
       "    }\n",
       "\n",
       "    .dataframe thead th {\n",
       "        text-align: right;\n",
       "    }\n",
       "</style>\n",
       "<table border=\"1\" class=\"dataframe\">\n",
       "  <thead>\n",
       "    <tr style=\"text-align: right;\">\n",
       "      <th></th>\n",
       "      <th>latitude</th>\n",
       "      <th>longitude</th>\n",
       "      <th>wind_knots</th>\n",
       "      <th>pressure_hpa</th>\n",
       "      <th>trop_storm_force_wind_diameter</th>\n",
       "      <th>hurricane_force_wind_diameter</th>\n",
       "      <th>clusters</th>\n",
       "    </tr>\n",
       "  </thead>\n",
       "  <tbody>\n",
       "    <tr>\n",
       "      <th>0</th>\n",
       "      <td>41.0</td>\n",
       "      <td>-73.2</td>\n",
       "      <td>60</td>\n",
       "      <td>983</td>\n",
       "      <td>0</td>\n",
       "      <td>0</td>\n",
       "      <td>0</td>\n",
       "    </tr>\n",
       "    <tr>\n",
       "      <th>1</th>\n",
       "      <td>42.6</td>\n",
       "      <td>-72.4</td>\n",
       "      <td>35</td>\n",
       "      <td>992</td>\n",
       "      <td>0</td>\n",
       "      <td>0</td>\n",
       "      <td>0</td>\n",
       "    </tr>\n",
       "    <tr>\n",
       "      <th>2</th>\n",
       "      <td>32.8</td>\n",
       "      <td>-80.0</td>\n",
       "      <td>20</td>\n",
       "      <td>1015</td>\n",
       "      <td>0</td>\n",
       "      <td>0</td>\n",
       "      <td>0</td>\n",
       "    </tr>\n",
       "    <tr>\n",
       "      <th>3</th>\n",
       "      <td>33.2</td>\n",
       "      <td>-79.0</td>\n",
       "      <td>20</td>\n",
       "      <td>1014</td>\n",
       "      <td>0</td>\n",
       "      <td>0</td>\n",
       "      <td>0</td>\n",
       "    </tr>\n",
       "    <tr>\n",
       "      <th>4</th>\n",
       "      <td>28.6</td>\n",
       "      <td>-98.7</td>\n",
       "      <td>30</td>\n",
       "      <td>1010</td>\n",
       "      <td>0</td>\n",
       "      <td>0</td>\n",
       "      <td>0</td>\n",
       "    </tr>\n",
       "  </tbody>\n",
       "</table>\n",
       "</div>"
      ],
      "text/plain": [
       "   latitude  longitude  wind_knots  pressure_hpa  \\\n",
       "0      41.0      -73.2          60           983   \n",
       "1      42.6      -72.4          35           992   \n",
       "2      32.8      -80.0          20          1015   \n",
       "3      33.2      -79.0          20          1014   \n",
       "4      28.6      -98.7          30          1010   \n",
       "\n",
       "   trop_storm_force_wind_diameter  hurricane_force_wind_diameter  clusters  \n",
       "0                               0                              0         0  \n",
       "1                               0                              0         0  \n",
       "2                               0                              0         0  \n",
       "3                               0                              0         0  \n",
       "4                               0                              0         0  "
      ]
     },
     "execution_count": 19,
     "metadata": {},
     "output_type": "execute_result"
    }
   ],
   "source": [
    "kdf.head()"
   ]
  },
  {
   "cell_type": "code",
   "execution_count": 20,
   "id": "efa293eb",
   "metadata": {},
   "outputs": [
    {
     "data": {
      "text/plain": [
       "0    718\n",
       "1    167\n",
       "Name: clusters, dtype: int64"
      ]
     },
     "execution_count": 20,
     "metadata": {},
     "output_type": "execute_result"
    }
   ],
   "source": [
    "# Check value counts\n",
    "\n",
    "kdf['clusters'].value_counts()"
   ]
  },
  {
   "cell_type": "code",
   "execution_count": 21,
   "id": "0d06f440",
   "metadata": {},
   "outputs": [],
   "source": [
    "# Export dataset with clusters\n",
    "\n",
    "kdf.to_csv(os.path.join(path, '02 Data', 'Prepared Data', 'storms_clusters.csv'))"
   ]
  },
  {
   "cell_type": "markdown",
   "id": "ebc142b8",
   "metadata": {},
   "source": [
    "## Create a few different visualizations (e.g., scatterplots) using your clustered data. Try plotting different variables against each other to see the results in terms of the clusters. (Step 7)"
   ]
  },
  {
   "cell_type": "code",
   "execution_count": 21,
   "id": "24e2dcb5",
   "metadata": {},
   "outputs": [
    {
     "data": {
      "image/png": "[encoded data removed]",
      "text/plain": [
       "<Figure size 864x576 with 1 Axes>"
      ]
     },
     "metadata": {
      "needs_background": "light"
     },
     "output_type": "display_data"
    }
   ],
   "source": [
    "# Examine relationship of 'pressure_hpa' and 'wind_knots'\n",
    "\n",
    "plt.figure(figsize=(12,8))\n",
    "ax = sns.scatterplot(x=kdf['pressure_hpa'], y=kdf['wind_knots'], hue=kmeans.labels_, s=100) \n",
    "\n",
    "ax.grid(False) # This removes the grid from the background.\n",
    "plt.xlabel('Barometric Pressure in hpa') # Label x-axis.\n",
    "plt.ylabel('Wind Speed in knots') # Label y-axis.\n",
    "plt.show()"
   ]
  },
  {
   "cell_type": "code",
   "execution_count": 22,
   "id": "f102b7ca",
   "metadata": {},
   "outputs": [
    {
     "data": {
      "image/png": "[encoded data removed]",
      "text/plain": [
       "<Figure size 864x576 with 1 Axes>"
      ]
     },
     "metadata": {
      "needs_background": "light"
     },
     "output_type": "display_data"
    }
   ],
   "source": [
    "# Examine relationship of 'hurricane_force_wind_diameter' and 'wind_knots'\n",
    "\n",
    "plt.figure(figsize=(12,8))\n",
    "ax = sns.scatterplot(x=kdf['hurricane_force_wind_diameter'], y=kdf['wind_knots'], hue=kmeans.labels_, s=100) \n",
    "\n",
    "ax.grid(False) # This removes the grid from the background.\n",
    "plt.xlabel('Hurricane Force Wind Diameter') # Label x-axis.\n",
    "plt.ylabel('Wind Speed in knots') # Label y-axis.\n",
    "plt.show()"
   ]
  },
  {
   "cell_type": "code",
   "execution_count": 23,
   "id": "f709de7d",
   "metadata": {},
   "outputs": [
    {
     "data": {
      "image/png": "[encoded data removed]",
      "text/plain": [
       "<Figure size 864x576 with 1 Axes>"
      ]
     },
     "metadata": {
      "needs_background": "light"
     },
     "output_type": "display_data"
    }
   ],
   "source": [
    "# Examine relationship of 'latitude' and 'trop_storm_force_wind_diameter'\n",
    "\n",
    "plt.figure(figsize=(12,8))\n",
    "ax = sns.scatterplot(x=kdf['latitude'], y=kdf['trop_storm_force_wind_diameter'], hue=kmeans.labels_, s=100) \n",
    "\n",
    "ax.grid(False) # This removes the grid from the background.\n",
    "plt.xlabel('Latitude') # Label x-axis.\n",
    "plt.ylabel('Tropical Storm Force Wind Diameter in nautical miles') # Label y-axis.\n",
    "plt.show()"
   ]
  },
  {
   "cell_type": "markdown",
   "id": "ef31053d",
   "metadata": {},
   "source": [
    "## Discuss how and why the clusters make sense. If they don’t make sense, however, this is also useful insight, as it means you’ll need to explore the data further. (Step 8)"
   ]
  },
  {
   "cell_type": "markdown",
   "id": "5723d88d",
   "metadata": {},
   "source": [
    "### A. Pressure and Wind Speed\n",
    "##### These clusters seem to make sense, in that barometric pressure and wind speed can be related within a storm's composition, but together do not imply the value of one will always lead to the value of another. Put another way, lower pressure allows storms to accumulate and therefore we could see increased wind speeds, but the absence of clear centroid clustering suggests these two variables might be more related through linear regression."
   ]
  },
  {
   "cell_type": "markdown",
   "id": "e4a4ee47",
   "metadata": {},
   "source": [
    "### B. Hurricane Force Wind Diameter and Wind Speed\n",
    "##### These clusters appear to be impacted by the high frequency of zero values for wind diameter. A more accurate examination will need to be performed with a new variable combining force wind diameters for both tropical storms and hurricanes, since each storm can only ever be classified as one or the other at any given observation and not both at the same time. This should eliminate many of the zero values, and any storm containing a zero in both columns can be filtered out for analysis."
   ]
  },
  {
   "cell_type": "markdown",
   "id": "004946f1",
   "metadata": {},
   "source": [
    "### C. Latitude and Tropical Storm Force Wind Diameter\n",
    "##### Again the prevalence of zero values seems to be skewing the clusters. I'm trying to examine whether a storm's latitudinal location impacts a storm's size, but this plot seems to be showing more of a regression than centroid clustering."
   ]
  },
  {
   "cell_type": "markdown",
   "id": "5f48f219",
   "metadata": {},
   "source": [
    "## Calculate the descriptive statistics for your clusters using the groupby() function and discuss your findings. (Step 9)"
   ]
  },
  {
   "cell_type": "code",
   "execution_count": 24,
   "id": "7abfb323",
   "metadata": {},
   "outputs": [],
   "source": [
    "kdf.loc[kdf['clusters'] == 1, 'cluster'] = 'orange'\n",
    "kdf.loc[kdf['clusters'] == 0, 'cluster'] = 'blue'"
   ]
  },
  {
   "cell_type": "code",
   "execution_count": 26,
   "id": "21d6d0d6",
   "metadata": {},
   "outputs": [
    {
     "data": {
      "text/html": [
       "<div>\n",
       "<style scoped>\n",
       "    .dataframe tbody tr th:only-of-type {\n",
       "        vertical-align: middle;\n",
       "    }\n",
       "\n",
       "    .dataframe tbody tr th {\n",
       "        vertical-align: top;\n",
       "    }\n",
       "\n",
       "    .dataframe thead th {\n",
       "        text-align: right;\n",
       "    }\n",
       "</style>\n",
       "<table border=\"1\" class=\"dataframe\">\n",
       "  <thead>\n",
       "    <tr style=\"text-align: right;\">\n",
       "      <th></th>\n",
       "      <th>latitude</th>\n",
       "      <th>longitude</th>\n",
       "      <th>wind_knots</th>\n",
       "      <th>pressure_hpa</th>\n",
       "      <th>trop_storm_force_wind_diameter</th>\n",
       "      <th>hurricane_force_wind_diameter</th>\n",
       "      <th>clusters</th>\n",
       "      <th>cluster</th>\n",
       "    </tr>\n",
       "  </thead>\n",
       "  <tbody>\n",
       "    <tr>\n",
       "      <th>0</th>\n",
       "      <td>41.0</td>\n",
       "      <td>-73.2</td>\n",
       "      <td>60</td>\n",
       "      <td>983</td>\n",
       "      <td>0</td>\n",
       "      <td>0</td>\n",
       "      <td>0</td>\n",
       "      <td>blue</td>\n",
       "    </tr>\n",
       "    <tr>\n",
       "      <th>1</th>\n",
       "      <td>42.6</td>\n",
       "      <td>-72.4</td>\n",
       "      <td>35</td>\n",
       "      <td>992</td>\n",
       "      <td>0</td>\n",
       "      <td>0</td>\n",
       "      <td>0</td>\n",
       "      <td>blue</td>\n",
       "    </tr>\n",
       "    <tr>\n",
       "      <th>2</th>\n",
       "      <td>32.8</td>\n",
       "      <td>-80.0</td>\n",
       "      <td>20</td>\n",
       "      <td>1015</td>\n",
       "      <td>0</td>\n",
       "      <td>0</td>\n",
       "      <td>0</td>\n",
       "      <td>blue</td>\n",
       "    </tr>\n",
       "    <tr>\n",
       "      <th>3</th>\n",
       "      <td>33.2</td>\n",
       "      <td>-79.0</td>\n",
       "      <td>20</td>\n",
       "      <td>1014</td>\n",
       "      <td>0</td>\n",
       "      <td>0</td>\n",
       "      <td>0</td>\n",
       "      <td>blue</td>\n",
       "    </tr>\n",
       "    <tr>\n",
       "      <th>4</th>\n",
       "      <td>28.6</td>\n",
       "      <td>-98.7</td>\n",
       "      <td>30</td>\n",
       "      <td>1010</td>\n",
       "      <td>0</td>\n",
       "      <td>0</td>\n",
       "      <td>0</td>\n",
       "      <td>blue</td>\n",
       "    </tr>\n",
       "  </tbody>\n",
       "</table>\n",
       "</div>"
      ],
      "text/plain": [
       "   latitude  longitude  wind_knots  pressure_hpa  \\\n",
       "0      41.0      -73.2          60           983   \n",
       "1      42.6      -72.4          35           992   \n",
       "2      32.8      -80.0          20          1015   \n",
       "3      33.2      -79.0          20          1014   \n",
       "4      28.6      -98.7          30          1010   \n",
       "\n",
       "   trop_storm_force_wind_diameter  hurricane_force_wind_diameter  clusters  \\\n",
       "0                               0                              0         0   \n",
       "1                               0                              0         0   \n",
       "2                               0                              0         0   \n",
       "3                               0                              0         0   \n",
       "4                               0                              0         0   \n",
       "\n",
       "  cluster  \n",
       "0    blue  \n",
       "1    blue  \n",
       "2    blue  \n",
       "3    blue  \n",
       "4    blue  "
      ]
     },
     "execution_count": 26,
     "metadata": {},
     "output_type": "execute_result"
    }
   ],
   "source": [
    "kdf.head()"
   ]
  },
  {
   "cell_type": "code",
   "execution_count": 27,
   "id": "df4855e5",
   "metadata": {},
   "outputs": [
    {
     "data": {
      "text/html": [
       "<div>\n",
       "<style scoped>\n",
       "    .dataframe tbody tr th:only-of-type {\n",
       "        vertical-align: middle;\n",
       "    }\n",
       "\n",
       "    .dataframe tbody tr th {\n",
       "        vertical-align: top;\n",
       "    }\n",
       "\n",
       "    .dataframe thead tr th {\n",
       "        text-align: left;\n",
       "    }\n",
       "\n",
       "    .dataframe thead tr:last-of-type th {\n",
       "        text-align: right;\n",
       "    }\n",
       "</style>\n",
       "<table border=\"1\" class=\"dataframe\">\n",
       "  <thead>\n",
       "    <tr>\n",
       "      <th></th>\n",
       "      <th colspan=\"2\" halign=\"left\">wind_knots</th>\n",
       "      <th colspan=\"2\" halign=\"left\">pressure_hpa</th>\n",
       "      <th colspan=\"2\" halign=\"left\">trop_storm_force_wind_diameter</th>\n",
       "      <th colspan=\"2\" halign=\"left\">hurricane_force_wind_diameter</th>\n",
       "    </tr>\n",
       "    <tr>\n",
       "      <th></th>\n",
       "      <th>mean</th>\n",
       "      <th>median</th>\n",
       "      <th>mean</th>\n",
       "      <th>median</th>\n",
       "      <th>mean</th>\n",
       "      <th>median</th>\n",
       "      <th>mean</th>\n",
       "      <th>median</th>\n",
       "    </tr>\n",
       "    <tr>\n",
       "      <th>cluster</th>\n",
       "      <th></th>\n",
       "      <th></th>\n",
       "      <th></th>\n",
       "      <th></th>\n",
       "      <th></th>\n",
       "      <th></th>\n",
       "      <th></th>\n",
       "      <th></th>\n",
       "    </tr>\n",
       "  </thead>\n",
       "  <tbody>\n",
       "    <tr>\n",
       "      <th>blue</th>\n",
       "      <td>35.459610</td>\n",
       "      <td>30.0</td>\n",
       "      <td>999.168524</td>\n",
       "      <td>1003.0</td>\n",
       "      <td>2.924791</td>\n",
       "      <td>0.0</td>\n",
       "      <td>0.055710</td>\n",
       "      <td>0.0</td>\n",
       "    </tr>\n",
       "    <tr>\n",
       "      <th>orange</th>\n",
       "      <td>55.628743</td>\n",
       "      <td>50.0</td>\n",
       "      <td>985.934132</td>\n",
       "      <td>992.0</td>\n",
       "      <td>182.455090</td>\n",
       "      <td>175.0</td>\n",
       "      <td>15.359281</td>\n",
       "      <td>0.0</td>\n",
       "    </tr>\n",
       "  </tbody>\n",
       "</table>\n",
       "</div>"
      ],
      "text/plain": [
       "        wind_knots        pressure_hpa         trop_storm_force_wind_diameter  \\\n",
       "              mean median         mean  median                           mean   \n",
       "cluster                                                                         \n",
       "blue     35.459610   30.0   999.168524  1003.0                       2.924791   \n",
       "orange   55.628743   50.0   985.934132   992.0                     182.455090   \n",
       "\n",
       "               hurricane_force_wind_diameter         \n",
       "        median                          mean median  \n",
       "cluster                                              \n",
       "blue       0.0                      0.055710    0.0  \n",
       "orange   175.0                     15.359281    0.0  "
      ]
     },
     "execution_count": 27,
     "metadata": {},
     "output_type": "execute_result"
    }
   ],
   "source": [
    "kdf.groupby('cluster').agg({'wind_knots': ['mean', 'median'],\n",
    "                           'pressure_hpa': ['mean', 'median'],\n",
    "                           'trop_storm_force_wind_diameter':['mean', 'median'],\n",
    "                           'hurricane_force_wind_diameter':['mean', 'median']})"
   ]
  },
  {
   "cell_type": "markdown",
   "id": "29cffb31",
   "metadata": {},
   "source": [
    "##### As above in the plots, the cluster with slower mean and median wind speeds does not show much of a difference overall in pressure compared to the cluster with higher wind speeds. The presence of median values of '0' for both force wind diameter variables further betrays the evidence of skewed data that need to be resolved, as the middle value of size observations for storms should never be zero unless that measurement was never taken for many more storms than not."
   ]
  },
  {
   "cell_type": "markdown",
   "id": "407510a4",
   "metadata": {},
   "source": [
    "## Propose what these results could be useful for in future steps of an analytics pipeline. (Step 10)"
   ]
  },
  {
   "cell_type": "markdown",
   "id": "a6f7264b",
   "metadata": {},
   "source": [
    "##### As they exist now, these clusters could lend further support to an analysis by means of opposition. If after the data are further cleaned to account for force wind diameters these clusters show little to no relationships, then they could be used to enhance a defense that certain variables are more regressively related instead. These clusters could also help to explain the basic meterology of storm formation itself, as a foundation when telling the story of the analysis. If the audience understands these relationships first, then showing findings of whether or not storms are increasing in frequency or intensity (for example) could lead to a more effective impact in presentation. "
   ]
  }
 ],
 "metadata": {
  "kernelspec": {
   "display_name": "Python 3 (ipykernel)",
   "language": "python",
   "name": "python3"
  },
  "language_info": {
   "codemirror_mode": {
    "name": "ipython",
    "version": 3
   },
   "file_extension": ".py",
   "mimetype": "text/x-python",
   "name": "python",
   "nbconvert_exporter": "python",
   "pygments_lexer": "ipython3",
   "version": "3.9.12"
  }
 },
 "nbformat": 4,
 "nbformat_minor": 5
}
