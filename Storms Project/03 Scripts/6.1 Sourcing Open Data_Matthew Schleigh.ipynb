{
 "cells": [
  {
   "cell_type": "markdown",
   "id": "b45d9818",
   "metadata": {},
   "source": [
    "# STORMS PROJECT"
   ]
  },
  {
   "cell_type": "markdown",
   "id": "10a68d98",
   "metadata": {},
   "source": [
    "# ========================================="
   ]
  },
  {
   "cell_type": "markdown",
   "id": "546f1c83",
   "metadata": {},
   "source": [
    "# This dataset contains an EDA for NOAA NHC storm data from 1975-2021 of Atlantic basin storms. There are two main sections:"
   ]
  },
  {
   "cell_type": "markdown",
   "id": "6b35a723",
   "metadata": {},
   "source": [
    "## A. Clean your data. Conduct some basic data cleaning and consistency checks in Jupyter to ensure your data is ready for further analysis."
   ]
  },
  {
   "cell_type": "markdown",
   "id": "be381ff6",
   "metadata": {},
   "source": [
    "## B. Understand your data. Develop a basic understanding of your data set by reviewing the variables and performing basic descriptive statistical analysis. "
   ]
  },
  {
   "cell_type": "markdown",
   "id": "b8aa3eed",
   "metadata": {},
   "source": [
    "# ========================================="
   ]
  },
  {
   "cell_type": "markdown",
   "id": "698d2a0d",
   "metadata": {},
   "source": [
    "# A. Clean your data. Conduct some basic data cleaning and consistency checks in Jupyter to ensure your data is ready for further analysis."
   ]
  },
  {
   "cell_type": "markdown",
   "id": "61fdff34",
   "metadata": {},
   "source": [
    "# ========================================="
   ]
  },
  {
   "cell_type": "markdown",
   "id": "51646c40",
   "metadata": {},
   "source": [
    "# 1. Import libraries and data"
   ]
  },
  {
   "cell_type": "code",
   "execution_count": 2,
   "id": "1c6ff0f4",
   "metadata": {},
   "outputs": [],
   "source": [
    "# Import libraries\n",
    "\n",
    "import pandas as pd\n",
    "import numpy as np\n",
    "import os"
   ]
  },
  {
   "cell_type": "code",
   "execution_count": 3,
   "id": "ffa030fb",
   "metadata": {},
   "outputs": [],
   "source": [
    "# Define path\n",
    "\n",
    "path = r'/Users/matthewschleigh/Desktop/CareerFoundry/Achievement 6/Storms Project'"
   ]
  },
  {
   "cell_type": "code",
   "execution_count": 4,
   "id": "ff53698a",
   "metadata": {},
   "outputs": [],
   "source": [
    "# Import data\n",
    "\n",
    "storms = pd.read_csv(os.path.join(path, '02 Data', 'Original Data', 'storms.csv'))"
   ]
  },
  {
   "cell_type": "code",
   "execution_count": 5,
   "id": "78a13d2a",
   "metadata": {},
   "outputs": [
    {
     "data": {
      "text/plain": [
       "(12230, 13)"
      ]
     },
     "execution_count": 5,
     "metadata": {},
     "output_type": "execute_result"
    }
   ],
   "source": [
    "# Check output\n",
    "\n",
    "storms.shape"
   ]
  },
  {
   "cell_type": "code",
   "execution_count": 6,
   "id": "47f5eb6f",
   "metadata": {},
   "outputs": [
    {
     "data": {
      "text/html": [
       "<div>\n",
       "<style scoped>\n",
       "    .dataframe tbody tr th:only-of-type {\n",
       "        vertical-align: middle;\n",
       "    }\n",
       "\n",
       "    .dataframe tbody tr th {\n",
       "        vertical-align: top;\n",
       "    }\n",
       "\n",
       "    .dataframe thead th {\n",
       "        text-align: right;\n",
       "    }\n",
       "</style>\n",
       "<table border=\"1\" class=\"dataframe\">\n",
       "  <thead>\n",
       "    <tr style=\"text-align: right;\">\n",
       "      <th></th>\n",
       "      <th>name</th>\n",
       "      <th>year</th>\n",
       "      <th>month</th>\n",
       "      <th>day</th>\n",
       "      <th>hour</th>\n",
       "      <th>lat</th>\n",
       "      <th>long</th>\n",
       "      <th>status</th>\n",
       "      <th>category</th>\n",
       "      <th>wind</th>\n",
       "      <th>pressure</th>\n",
       "      <th>tropicalstorm_force_diameter</th>\n",
       "      <th>hurricane_force_diameter</th>\n",
       "    </tr>\n",
       "  </thead>\n",
       "  <tbody>\n",
       "    <tr>\n",
       "      <th>0</th>\n",
       "      <td>Amy</td>\n",
       "      <td>1975</td>\n",
       "      <td>6</td>\n",
       "      <td>27</td>\n",
       "      <td>0</td>\n",
       "      <td>27.5</td>\n",
       "      <td>-79.0</td>\n",
       "      <td>tropical depression</td>\n",
       "      <td>-1</td>\n",
       "      <td>25</td>\n",
       "      <td>1013</td>\n",
       "      <td>NaN</td>\n",
       "      <td>NaN</td>\n",
       "    </tr>\n",
       "    <tr>\n",
       "      <th>1</th>\n",
       "      <td>Amy</td>\n",
       "      <td>1975</td>\n",
       "      <td>6</td>\n",
       "      <td>27</td>\n",
       "      <td>6</td>\n",
       "      <td>28.5</td>\n",
       "      <td>-79.0</td>\n",
       "      <td>tropical depression</td>\n",
       "      <td>-1</td>\n",
       "      <td>25</td>\n",
       "      <td>1013</td>\n",
       "      <td>NaN</td>\n",
       "      <td>NaN</td>\n",
       "    </tr>\n",
       "    <tr>\n",
       "      <th>2</th>\n",
       "      <td>Amy</td>\n",
       "      <td>1975</td>\n",
       "      <td>6</td>\n",
       "      <td>27</td>\n",
       "      <td>12</td>\n",
       "      <td>29.5</td>\n",
       "      <td>-79.0</td>\n",
       "      <td>tropical depression</td>\n",
       "      <td>-1</td>\n",
       "      <td>25</td>\n",
       "      <td>1013</td>\n",
       "      <td>NaN</td>\n",
       "      <td>NaN</td>\n",
       "    </tr>\n",
       "    <tr>\n",
       "      <th>3</th>\n",
       "      <td>Amy</td>\n",
       "      <td>1975</td>\n",
       "      <td>6</td>\n",
       "      <td>27</td>\n",
       "      <td>18</td>\n",
       "      <td>30.5</td>\n",
       "      <td>-79.0</td>\n",
       "      <td>tropical depression</td>\n",
       "      <td>-1</td>\n",
       "      <td>25</td>\n",
       "      <td>1013</td>\n",
       "      <td>NaN</td>\n",
       "      <td>NaN</td>\n",
       "    </tr>\n",
       "    <tr>\n",
       "      <th>4</th>\n",
       "      <td>Amy</td>\n",
       "      <td>1975</td>\n",
       "      <td>6</td>\n",
       "      <td>28</td>\n",
       "      <td>0</td>\n",
       "      <td>31.5</td>\n",
       "      <td>-78.8</td>\n",
       "      <td>tropical depression</td>\n",
       "      <td>-1</td>\n",
       "      <td>25</td>\n",
       "      <td>1012</td>\n",
       "      <td>NaN</td>\n",
       "      <td>NaN</td>\n",
       "    </tr>\n",
       "  </tbody>\n",
       "</table>\n",
       "</div>"
      ],
      "text/plain": [
       "  name  year  month  day  hour   lat  long               status  category  \\\n",
       "0  Amy  1975      6   27     0  27.5 -79.0  tropical depression        -1   \n",
       "1  Amy  1975      6   27     6  28.5 -79.0  tropical depression        -1   \n",
       "2  Amy  1975      6   27    12  29.5 -79.0  tropical depression        -1   \n",
       "3  Amy  1975      6   27    18  30.5 -79.0  tropical depression        -1   \n",
       "4  Amy  1975      6   28     0  31.5 -78.8  tropical depression        -1   \n",
       "\n",
       "   wind  pressure  tropicalstorm_force_diameter  hurricane_force_diameter  \n",
       "0    25      1013                           NaN                       NaN  \n",
       "1    25      1013                           NaN                       NaN  \n",
       "2    25      1013                           NaN                       NaN  \n",
       "3    25      1013                           NaN                       NaN  \n",
       "4    25      1012                           NaN                       NaN  "
      ]
     },
     "execution_count": 6,
     "metadata": {},
     "output_type": "execute_result"
    }
   ],
   "source": [
    "storms.head()"
   ]
  },
  {
   "cell_type": "markdown",
   "id": "d767da81",
   "metadata": {},
   "source": [
    "# 2. Rename columns"
   ]
  },
  {
   "cell_type": "code",
   "execution_count": 13,
   "id": "9e255fe2",
   "metadata": {},
   "outputs": [],
   "source": [
    "storms.rename(columns = {'wind':'wind_knots', 'pressure':'pressure_hpa', 'tropicalstorm_force_diameter':'trop_storm_force_wind_diameter', 'hurricane_force_diameter':'hurricane_force_wind_diameter', 'lat':'latitude', 'long':'longitude'}, inplace=True)\n",
    "              "
   ]
  },
  {
   "cell_type": "code",
   "execution_count": 14,
   "id": "8d6e7b3e",
   "metadata": {},
   "outputs": [
    {
     "data": {
      "text/html": [
       "<div>\n",
       "<style scoped>\n",
       "    .dataframe tbody tr th:only-of-type {\n",
       "        vertical-align: middle;\n",
       "    }\n",
       "\n",
       "    .dataframe tbody tr th {\n",
       "        vertical-align: top;\n",
       "    }\n",
       "\n",
       "    .dataframe thead th {\n",
       "        text-align: right;\n",
       "    }\n",
       "</style>\n",
       "<table border=\"1\" class=\"dataframe\">\n",
       "  <thead>\n",
       "    <tr style=\"text-align: right;\">\n",
       "      <th></th>\n",
       "      <th>name</th>\n",
       "      <th>year</th>\n",
       "      <th>month</th>\n",
       "      <th>day</th>\n",
       "      <th>hour</th>\n",
       "      <th>latitude</th>\n",
       "      <th>longitude</th>\n",
       "      <th>status</th>\n",
       "      <th>category</th>\n",
       "      <th>wind_knots</th>\n",
       "      <th>pressure_hpa</th>\n",
       "      <th>trop_storm_force_wind_diameter</th>\n",
       "      <th>hurricane_force_wind_diameter</th>\n",
       "    </tr>\n",
       "  </thead>\n",
       "  <tbody>\n",
       "    <tr>\n",
       "      <th>0</th>\n",
       "      <td>Amy</td>\n",
       "      <td>1975</td>\n",
       "      <td>6</td>\n",
       "      <td>27</td>\n",
       "      <td>0</td>\n",
       "      <td>27.5</td>\n",
       "      <td>-79.0</td>\n",
       "      <td>tropical depression</td>\n",
       "      <td>-1</td>\n",
       "      <td>25</td>\n",
       "      <td>1013</td>\n",
       "      <td>NaN</td>\n",
       "      <td>NaN</td>\n",
       "    </tr>\n",
       "    <tr>\n",
       "      <th>1</th>\n",
       "      <td>Amy</td>\n",
       "      <td>1975</td>\n",
       "      <td>6</td>\n",
       "      <td>27</td>\n",
       "      <td>6</td>\n",
       "      <td>28.5</td>\n",
       "      <td>-79.0</td>\n",
       "      <td>tropical depression</td>\n",
       "      <td>-1</td>\n",
       "      <td>25</td>\n",
       "      <td>1013</td>\n",
       "      <td>NaN</td>\n",
       "      <td>NaN</td>\n",
       "    </tr>\n",
       "    <tr>\n",
       "      <th>2</th>\n",
       "      <td>Amy</td>\n",
       "      <td>1975</td>\n",
       "      <td>6</td>\n",
       "      <td>27</td>\n",
       "      <td>12</td>\n",
       "      <td>29.5</td>\n",
       "      <td>-79.0</td>\n",
       "      <td>tropical depression</td>\n",
       "      <td>-1</td>\n",
       "      <td>25</td>\n",
       "      <td>1013</td>\n",
       "      <td>NaN</td>\n",
       "      <td>NaN</td>\n",
       "    </tr>\n",
       "    <tr>\n",
       "      <th>3</th>\n",
       "      <td>Amy</td>\n",
       "      <td>1975</td>\n",
       "      <td>6</td>\n",
       "      <td>27</td>\n",
       "      <td>18</td>\n",
       "      <td>30.5</td>\n",
       "      <td>-79.0</td>\n",
       "      <td>tropical depression</td>\n",
       "      <td>-1</td>\n",
       "      <td>25</td>\n",
       "      <td>1013</td>\n",
       "      <td>NaN</td>\n",
       "      <td>NaN</td>\n",
       "    </tr>\n",
       "    <tr>\n",
       "      <th>4</th>\n",
       "      <td>Amy</td>\n",
       "      <td>1975</td>\n",
       "      <td>6</td>\n",
       "      <td>28</td>\n",
       "      <td>0</td>\n",
       "      <td>31.5</td>\n",
       "      <td>-78.8</td>\n",
       "      <td>tropical depression</td>\n",
       "      <td>-1</td>\n",
       "      <td>25</td>\n",
       "      <td>1012</td>\n",
       "      <td>NaN</td>\n",
       "      <td>NaN</td>\n",
       "    </tr>\n",
       "  </tbody>\n",
       "</table>\n",
       "</div>"
      ],
      "text/plain": [
       "  name  year  month  day  hour  latitude  longitude               status  \\\n",
       "0  Amy  1975      6   27     0      27.5      -79.0  tropical depression   \n",
       "1  Amy  1975      6   27     6      28.5      -79.0  tropical depression   \n",
       "2  Amy  1975      6   27    12      29.5      -79.0  tropical depression   \n",
       "3  Amy  1975      6   27    18      30.5      -79.0  tropical depression   \n",
       "4  Amy  1975      6   28     0      31.5      -78.8  tropical depression   \n",
       "\n",
       "   category  wind_knots  pressure_hpa  trop_storm_force_wind_diameter  \\\n",
       "0        -1          25          1013                             NaN   \n",
       "1        -1          25          1013                             NaN   \n",
       "2        -1          25          1013                             NaN   \n",
       "3        -1          25          1013                             NaN   \n",
       "4        -1          25          1012                             NaN   \n",
       "\n",
       "   hurricane_force_wind_diameter  \n",
       "0                            NaN  \n",
       "1                            NaN  \n",
       "2                            NaN  \n",
       "3                            NaN  \n",
       "4                            NaN  "
      ]
     },
     "execution_count": 14,
     "metadata": {},
     "output_type": "execute_result"
    }
   ],
   "source": [
    "# Check code\n",
    "\n",
    "storms.head()"
   ]
  },
  {
   "cell_type": "markdown",
   "id": "e565ec84",
   "metadata": {},
   "source": [
    "# 3. Check missing values"
   ]
  },
  {
   "cell_type": "code",
   "execution_count": 15,
   "id": "ecf57403",
   "metadata": {},
   "outputs": [
    {
     "data": {
      "text/plain": [
       "Emily        217\n",
       "Bonnie       209\n",
       "Claudette    194\n",
       "Alberto      184\n",
       "Felix        178\n",
       "            ... \n",
       "AL022003       4\n",
       "AL092003       4\n",
       "AL012000       4\n",
       "Nestor         3\n",
       "Five           2\n",
       "Name: name, Length: 220, dtype: int64"
      ]
     },
     "execution_count": 15,
     "metadata": {},
     "output_type": "execute_result"
    }
   ],
   "source": [
    "storms['name'].value_counts(dropna=False)"
   ]
  },
  {
   "cell_type": "code",
   "execution_count": 19,
   "id": "297dc75f",
   "metadata": {},
   "outputs": [
    {
     "data": {
      "text/plain": [
       "NaN      6509\n",
       "0.0      1106\n",
       "90.0      273\n",
       "120.0     220\n",
       "100.0     217\n",
       "         ... \n",
       "780.0       1\n",
       "335.0       1\n",
       "395.0       1\n",
       "10.0        1\n",
       "525.0       1\n",
       "Name: trop_storm_force_wind_diameter, Length: 118, dtype: int64"
      ]
     },
     "execution_count": 19,
     "metadata": {},
     "output_type": "execute_result"
    }
   ],
   "source": [
    "storms['trop_storm_force_wind_diameter'].value_counts(dropna=False)"
   ]
  },
  {
   "cell_type": "code",
   "execution_count": 20,
   "id": "03e62dc4",
   "metadata": {},
   "outputs": [
    {
     "data": {
      "text/plain": [
       "NaN      6509\n",
       "0.0      4067\n",
       "40.0      161\n",
       "50.0      140\n",
       "30.0      131\n",
       "20.0      127\n",
       "60.0      112\n",
       "25.0       83\n",
       "70.0       80\n",
       "90.0       72\n",
       "100.0      70\n",
       "35.0       69\n",
       "45.0       66\n",
       "65.0       59\n",
       "15.0       47\n",
       "80.0       42\n",
       "85.0       42\n",
       "55.0       39\n",
       "75.0       38\n",
       "150.0      36\n",
       "120.0      32\n",
       "135.0      28\n",
       "110.0      26\n",
       "105.0      25\n",
       "10.0       25\n",
       "130.0      22\n",
       "160.0      17\n",
       "165.0      13\n",
       "125.0      12\n",
       "180.0       8\n",
       "140.0       8\n",
       "95.0        8\n",
       "115.0       5\n",
       "170.0       4\n",
       "190.0       3\n",
       "230.0       2\n",
       "300.0       1\n",
       "200.0       1\n",
       "Name: hurricane_force_wind_diameter, dtype: int64"
      ]
     },
     "execution_count": 20,
     "metadata": {},
     "output_type": "execute_result"
    }
   ],
   "source": [
    "storms['hurricane_force_wind_diameter'].value_counts(dropna=False)"
   ]
  },
  {
   "cell_type": "code",
   "execution_count": 21,
   "id": "b27e6e36",
   "metadata": {},
   "outputs": [
    {
     "data": {
      "text/plain": [
       "1995    652\n",
       "2020    570\n",
       "2005    498\n",
       "2012    454\n",
       "2003    422\n",
       "1998    410\n",
       "2004    410\n",
       "2010    402\n",
       "2016    396\n",
       "2001    371\n",
       "2021    371\n",
       "1990    355\n",
       "1989    354\n",
       "2008    335\n",
       "2019    330\n",
       "2011    323\n",
       "2000    318\n",
       "1996    315\n",
       "2017    306\n",
       "1979    301\n",
       "2002    285\n",
       "2018    266\n",
       "1985    263\n",
       "1988    252\n",
       "1984    236\n",
       "2015    220\n",
       "2007    213\n",
       "1999    210\n",
       "1994    206\n",
       "2013    202\n",
       "2006    190\n",
       "1992    185\n",
       "1981    164\n",
       "1980    161\n",
       "1997    154\n",
       "2009    153\n",
       "2014    139\n",
       "1991    131\n",
       "1993    128\n",
       "1982    105\n",
       "1975     86\n",
       "1987     80\n",
       "1983     79\n",
       "1986     70\n",
       "1978     54\n",
       "1977     53\n",
       "1976     52\n",
       "Name: year, dtype: int64"
      ]
     },
     "execution_count": 21,
     "metadata": {},
     "output_type": "execute_result"
    }
   ],
   "source": [
    "storms['year'].value_counts(dropna=False)"
   ]
  },
  {
   "cell_type": "code",
   "execution_count": 22,
   "id": "1f8020ac",
   "metadata": {},
   "outputs": [
    {
     "data": {
      "text/plain": [
       "9     5034\n",
       "8     2812\n",
       "10    2024\n",
       "7      962\n",
       "11     734\n",
       "6      403\n",
       "12     125\n",
       "5       93\n",
       "1       30\n",
       "4       13\n",
       "Name: month, dtype: int64"
      ]
     },
     "execution_count": 22,
     "metadata": {},
     "output_type": "execute_result"
    }
   ],
   "source": [
    "storms['month'].value_counts(dropna=False)"
   ]
  },
  {
   "cell_type": "code",
   "execution_count": 23,
   "id": "2f296f92",
   "metadata": {},
   "outputs": [
    {
     "data": {
      "text/plain": [
       "1     449\n",
       "29    427\n",
       "30    427\n",
       "2     426\n",
       "25    421\n",
       "6     419\n",
       "28    417\n",
       "15    415\n",
       "8     413\n",
       "7     413\n",
       "24    404\n",
       "3     402\n",
       "26    401\n",
       "16    400\n",
       "22    399\n",
       "23    396\n",
       "5     396\n",
       "17    395\n",
       "9     395\n",
       "18    392\n",
       "14    391\n",
       "4     386\n",
       "27    385\n",
       "21    379\n",
       "11    378\n",
       "19    373\n",
       "20    371\n",
       "13    369\n",
       "12    369\n",
       "10    367\n",
       "31    255\n",
       "Name: day, dtype: int64"
      ]
     },
     "execution_count": 23,
     "metadata": {},
     "output_type": "execute_result"
    }
   ],
   "source": [
    "storms['day'].value_counts(dropna=False)"
   ]
  },
  {
   "cell_type": "code",
   "execution_count": 24,
   "id": "9b76dec4",
   "metadata": {},
   "outputs": [
    {
     "data": {
      "text/plain": [
       "12    2999\n",
       "18    2987\n",
       "0     2955\n",
       "6     2944\n",
       "3       37\n",
       "21      32\n",
       "15      27\n",
       "16      21\n",
       "14      20\n",
       "9       18\n",
       "2       17\n",
       "8       17\n",
       "22      17\n",
       "10      16\n",
       "11      16\n",
       "13      15\n",
       "5       14\n",
       "4       14\n",
       "7       13\n",
       "23      13\n",
       "17      12\n",
       "1        9\n",
       "19       9\n",
       "20       8\n",
       "Name: hour, dtype: int64"
      ]
     },
     "execution_count": 24,
     "metadata": {},
     "output_type": "execute_result"
    }
   ],
   "source": [
    "storms['hour'].value_counts(dropna=False)"
   ]
  },
  {
   "cell_type": "code",
   "execution_count": 25,
   "id": "02f04b8b",
   "metadata": {},
   "outputs": [
    {
     "data": {
      "text/plain": [
       "31.5    74\n",
       "20.0    72\n",
       "20.5    63\n",
       "29.0    63\n",
       "18.0    61\n",
       "        ..\n",
       "49.5     1\n",
       "48.2     1\n",
       "51.9     1\n",
       "8.8      1\n",
       "8.7      1\n",
       "Name: latitude, Length: 410, dtype: int64"
      ]
     },
     "execution_count": 25,
     "metadata": {},
     "output_type": "execute_result"
    }
   ],
   "source": [
    "storms['latitude'].value_counts(dropna=False)"
   ]
  },
  {
   "cell_type": "code",
   "execution_count": 26,
   "id": "7ea7c45d",
   "metadata": {},
   "outputs": [
    {
     "data": {
      "text/plain": [
       "-84.0     37\n",
       "-62.8     35\n",
       "-58.0     35\n",
       "-40.0     33\n",
       "-72.0     33\n",
       "          ..\n",
       "-19.4      1\n",
       "-18.2      1\n",
       "-17.4      1\n",
       "-107.7     1\n",
       "-20.6      1\n",
       "Name: longitude, Length: 865, dtype: int64"
      ]
     },
     "execution_count": 26,
     "metadata": {},
     "output_type": "execute_result"
    }
   ],
   "source": [
    "storms['longitude'].value_counts(dropna=False)"
   ]
  },
  {
   "cell_type": "code",
   "execution_count": 27,
   "id": "fcbb4c2e",
   "metadata": {},
   "outputs": [
    {
     "data": {
      "text/plain": [
       "tropical storm         5537\n",
       "hurricane              3720\n",
       "tropical depression    2973\n",
       "Name: status, dtype: int64"
      ]
     },
     "execution_count": 27,
     "metadata": {},
     "output_type": "execute_result"
    }
   ],
   "source": [
    "storms['status'].value_counts(dropna=False)"
   ]
  },
  {
   "cell_type": "code",
   "execution_count": 28,
   "id": "39338bb0",
   "metadata": {},
   "outputs": [
    {
     "data": {
      "text/plain": [
       " 0    5536\n",
       "-1    2973\n",
       " 1    1974\n",
       " 2     766\n",
       " 3     455\n",
       " 4     440\n",
       " 5      86\n",
       "Name: category, dtype: int64"
      ]
     },
     "execution_count": 28,
     "metadata": {},
     "output_type": "execute_result"
    }
   ],
   "source": [
    "storms['category'].value_counts(dropna=False)"
   ]
  },
  {
   "cell_type": "code",
   "execution_count": 29,
   "id": "f4ddbd36",
   "metadata": {},
   "outputs": [
    {
     "data": {
      "text/plain": [
       "30     1859\n",
       "35     1209\n",
       "45     1085\n",
       "40     1032\n",
       "50      871\n",
       "25      824\n",
       "55      743\n",
       "65      708\n",
       "60      596\n",
       "70      501\n",
       "75      449\n",
       "80      316\n",
       "90      297\n",
       "85      278\n",
       "20      231\n",
       "95      191\n",
       "100     184\n",
       "110     142\n",
       "115     142\n",
       "105     129\n",
       "120      99\n",
       "125      98\n",
       "130      69\n",
       "15       50\n",
       "140      34\n",
       "135      32\n",
       "145      24\n",
       "150      16\n",
       "10        9\n",
       "155       8\n",
       "160       4\n",
       "Name: wind_knots, dtype: int64"
      ]
     },
     "execution_count": 29,
     "metadata": {},
     "output_type": "execute_result"
    }
   ],
   "source": [
    "storms['wind_knots'].value_counts(dropna=False)"
   ]
  },
  {
   "cell_type": "code",
   "execution_count": 30,
   "id": "846943cc",
   "metadata": {},
   "outputs": [
    {
     "data": {
      "text/plain": [
       "1005    663\n",
       "1006    644\n",
       "1007    596\n",
       "1008    575\n",
       "1004    487\n",
       "       ... \n",
       "902       1\n",
       "888       1\n",
       "889       1\n",
       "900       1\n",
       "907       1\n",
       "Name: pressure_hpa, Length: 124, dtype: int64"
      ]
     },
     "execution_count": 30,
     "metadata": {},
     "output_type": "execute_result"
    }
   ],
   "source": [
    "storms['pressure_hpa'].value_counts(dropna=False)"
   ]
  },
  {
   "cell_type": "markdown",
   "id": "6555a54f",
   "metadata": {},
   "source": [
    "## Missing values found in 'trop_storm_force_wind_diameter' and 'hurricane_force_wind_diameter'. NaN kept for the moment since a value of \"0\" would imply the storm had no size, as opposed to data that was not collected."
   ]
  },
  {
   "cell_type": "markdown",
   "id": "d7231f45",
   "metadata": {},
   "source": [
    "# 4. Check duplicates"
   ]
  },
  {
   "cell_type": "code",
   "execution_count": 31,
   "id": "8224aa04",
   "metadata": {},
   "outputs": [],
   "source": [
    "storms_dups = storms[storms.duplicated()]"
   ]
  },
  {
   "cell_type": "code",
   "execution_count": 32,
   "id": "e75b944b",
   "metadata": {},
   "outputs": [
    {
     "data": {
      "text/html": [
       "<div>\n",
       "<style scoped>\n",
       "    .dataframe tbody tr th:only-of-type {\n",
       "        vertical-align: middle;\n",
       "    }\n",
       "\n",
       "    .dataframe tbody tr th {\n",
       "        vertical-align: top;\n",
       "    }\n",
       "\n",
       "    .dataframe thead th {\n",
       "        text-align: right;\n",
       "    }\n",
       "</style>\n",
       "<table border=\"1\" class=\"dataframe\">\n",
       "  <thead>\n",
       "    <tr style=\"text-align: right;\">\n",
       "      <th></th>\n",
       "      <th>name</th>\n",
       "      <th>year</th>\n",
       "      <th>month</th>\n",
       "      <th>day</th>\n",
       "      <th>hour</th>\n",
       "      <th>latitude</th>\n",
       "      <th>longitude</th>\n",
       "      <th>status</th>\n",
       "      <th>category</th>\n",
       "      <th>wind_knots</th>\n",
       "      <th>pressure_hpa</th>\n",
       "      <th>trop_storm_force_wind_diameter</th>\n",
       "      <th>hurricane_force_wind_diameter</th>\n",
       "    </tr>\n",
       "  </thead>\n",
       "  <tbody>\n",
       "  </tbody>\n",
       "</table>\n",
       "</div>"
      ],
      "text/plain": [
       "Empty DataFrame\n",
       "Columns: [name, year, month, day, hour, latitude, longitude, status, category, wind_knots, pressure_hpa, trop_storm_force_wind_diameter, hurricane_force_wind_diameter]\n",
       "Index: []"
      ]
     },
     "execution_count": 32,
     "metadata": {},
     "output_type": "execute_result"
    }
   ],
   "source": [
    "storms_dups"
   ]
  },
  {
   "cell_type": "markdown",
   "id": "3a1206c0",
   "metadata": {},
   "source": [
    "## No output means there are no duplicates in the df."
   ]
  },
  {
   "cell_type": "markdown",
   "id": "07ea0607",
   "metadata": {},
   "source": [
    "# 5. Check data types"
   ]
  },
  {
   "cell_type": "code",
   "execution_count": 34,
   "id": "bde4a88d",
   "metadata": {},
   "outputs": [
    {
     "data": {
      "text/plain": [
       "name                               object\n",
       "year                                int64\n",
       "month                               int64\n",
       "day                                 int64\n",
       "hour                                int64\n",
       "latitude                          float64\n",
       "longitude                         float64\n",
       "status                             object\n",
       "category                            int64\n",
       "wind_knots                          int64\n",
       "pressure_hpa                        int64\n",
       "trop_storm_force_wind_diameter    float64\n",
       "hurricane_force_wind_diameter     float64\n",
       "dtype: object"
      ]
     },
     "execution_count": 34,
     "metadata": {},
     "output_type": "execute_result"
    }
   ],
   "source": [
    "storms.dtypes"
   ]
  },
  {
   "cell_type": "markdown",
   "id": "4a0a968c",
   "metadata": {},
   "source": [
    "## All data types look to be accurate for type of data expected based on variables. It's possible 'category' could be changed to object since the number represents a classification of storm size, but I'll leave it as an integer for the time being."
   ]
  },
  {
   "cell_type": "markdown",
   "id": "3e730d6b",
   "metadata": {},
   "source": [
    "# 6. Check for mixed types"
   ]
  },
  {
   "cell_type": "code",
   "execution_count": 35,
   "id": "4acfdb40",
   "metadata": {},
   "outputs": [],
   "source": [
    "for col in storms.columns.tolist():\n",
    "  weird = (storms[[col]].applymap(type) != storms[[col]].iloc[0].apply(type)).any(axis = 1)\n",
    "  if len (storms[weird]) > 0:\n",
    "    print (col)"
   ]
  },
  {
   "cell_type": "markdown",
   "id": "1456901a",
   "metadata": {},
   "source": [
    "## No output means there are no mixed type data types within df."
   ]
  },
  {
   "cell_type": "markdown",
   "id": "544f4768",
   "metadata": {},
   "source": [
    "# 7. Additional missing values check"
   ]
  },
  {
   "cell_type": "code",
   "execution_count": 36,
   "id": "d970525a",
   "metadata": {},
   "outputs": [
    {
     "data": {
      "text/plain": [
       "name                                 0\n",
       "year                                 0\n",
       "month                                0\n",
       "day                                  0\n",
       "hour                                 0\n",
       "latitude                             0\n",
       "longitude                            0\n",
       "status                               0\n",
       "category                             0\n",
       "wind_knots                           0\n",
       "pressure_hpa                         0\n",
       "trop_storm_force_wind_diameter    6509\n",
       "hurricane_force_wind_diameter     6509\n",
       "dtype: int64"
      ]
     },
     "execution_count": 36,
     "metadata": {},
     "output_type": "execute_result"
    }
   ],
   "source": [
    "storms.isnull().sum()"
   ]
  },
  {
   "cell_type": "markdown",
   "id": "96fff8ad",
   "metadata": {},
   "source": [
    "# 8. Check output again "
   ]
  },
  {
   "cell_type": "code",
   "execution_count": 37,
   "id": "fdbb9185",
   "metadata": {},
   "outputs": [
    {
     "data": {
      "text/html": [
       "<div>\n",
       "<style scoped>\n",
       "    .dataframe tbody tr th:only-of-type {\n",
       "        vertical-align: middle;\n",
       "    }\n",
       "\n",
       "    .dataframe tbody tr th {\n",
       "        vertical-align: top;\n",
       "    }\n",
       "\n",
       "    .dataframe thead th {\n",
       "        text-align: right;\n",
       "    }\n",
       "</style>\n",
       "<table border=\"1\" class=\"dataframe\">\n",
       "  <thead>\n",
       "    <tr style=\"text-align: right;\">\n",
       "      <th></th>\n",
       "      <th>name</th>\n",
       "      <th>year</th>\n",
       "      <th>month</th>\n",
       "      <th>day</th>\n",
       "      <th>hour</th>\n",
       "      <th>latitude</th>\n",
       "      <th>longitude</th>\n",
       "      <th>status</th>\n",
       "      <th>category</th>\n",
       "      <th>wind_knots</th>\n",
       "      <th>pressure_hpa</th>\n",
       "      <th>trop_storm_force_wind_diameter</th>\n",
       "      <th>hurricane_force_wind_diameter</th>\n",
       "    </tr>\n",
       "  </thead>\n",
       "  <tbody>\n",
       "    <tr>\n",
       "      <th>0</th>\n",
       "      <td>Amy</td>\n",
       "      <td>1975</td>\n",
       "      <td>6</td>\n",
       "      <td>27</td>\n",
       "      <td>0</td>\n",
       "      <td>27.5</td>\n",
       "      <td>-79.0</td>\n",
       "      <td>tropical depression</td>\n",
       "      <td>-1</td>\n",
       "      <td>25</td>\n",
       "      <td>1013</td>\n",
       "      <td>NaN</td>\n",
       "      <td>NaN</td>\n",
       "    </tr>\n",
       "    <tr>\n",
       "      <th>1</th>\n",
       "      <td>Amy</td>\n",
       "      <td>1975</td>\n",
       "      <td>6</td>\n",
       "      <td>27</td>\n",
       "      <td>6</td>\n",
       "      <td>28.5</td>\n",
       "      <td>-79.0</td>\n",
       "      <td>tropical depression</td>\n",
       "      <td>-1</td>\n",
       "      <td>25</td>\n",
       "      <td>1013</td>\n",
       "      <td>NaN</td>\n",
       "      <td>NaN</td>\n",
       "    </tr>\n",
       "    <tr>\n",
       "      <th>2</th>\n",
       "      <td>Amy</td>\n",
       "      <td>1975</td>\n",
       "      <td>6</td>\n",
       "      <td>27</td>\n",
       "      <td>12</td>\n",
       "      <td>29.5</td>\n",
       "      <td>-79.0</td>\n",
       "      <td>tropical depression</td>\n",
       "      <td>-1</td>\n",
       "      <td>25</td>\n",
       "      <td>1013</td>\n",
       "      <td>NaN</td>\n",
       "      <td>NaN</td>\n",
       "    </tr>\n",
       "    <tr>\n",
       "      <th>3</th>\n",
       "      <td>Amy</td>\n",
       "      <td>1975</td>\n",
       "      <td>6</td>\n",
       "      <td>27</td>\n",
       "      <td>18</td>\n",
       "      <td>30.5</td>\n",
       "      <td>-79.0</td>\n",
       "      <td>tropical depression</td>\n",
       "      <td>-1</td>\n",
       "      <td>25</td>\n",
       "      <td>1013</td>\n",
       "      <td>NaN</td>\n",
       "      <td>NaN</td>\n",
       "    </tr>\n",
       "    <tr>\n",
       "      <th>4</th>\n",
       "      <td>Amy</td>\n",
       "      <td>1975</td>\n",
       "      <td>6</td>\n",
       "      <td>28</td>\n",
       "      <td>0</td>\n",
       "      <td>31.5</td>\n",
       "      <td>-78.8</td>\n",
       "      <td>tropical depression</td>\n",
       "      <td>-1</td>\n",
       "      <td>25</td>\n",
       "      <td>1012</td>\n",
       "      <td>NaN</td>\n",
       "      <td>NaN</td>\n",
       "    </tr>\n",
       "  </tbody>\n",
       "</table>\n",
       "</div>"
      ],
      "text/plain": [
       "  name  year  month  day  hour  latitude  longitude               status  \\\n",
       "0  Amy  1975      6   27     0      27.5      -79.0  tropical depression   \n",
       "1  Amy  1975      6   27     6      28.5      -79.0  tropical depression   \n",
       "2  Amy  1975      6   27    12      29.5      -79.0  tropical depression   \n",
       "3  Amy  1975      6   27    18      30.5      -79.0  tropical depression   \n",
       "4  Amy  1975      6   28     0      31.5      -78.8  tropical depression   \n",
       "\n",
       "   category  wind_knots  pressure_hpa  trop_storm_force_wind_diameter  \\\n",
       "0        -1          25          1013                             NaN   \n",
       "1        -1          25          1013                             NaN   \n",
       "2        -1          25          1013                             NaN   \n",
       "3        -1          25          1013                             NaN   \n",
       "4        -1          25          1012                             NaN   \n",
       "\n",
       "   hurricane_force_wind_diameter  \n",
       "0                            NaN  \n",
       "1                            NaN  \n",
       "2                            NaN  \n",
       "3                            NaN  \n",
       "4                            NaN  "
      ]
     },
     "execution_count": 37,
     "metadata": {},
     "output_type": "execute_result"
    }
   ],
   "source": [
    "storms.head()"
   ]
  },
  {
   "cell_type": "code",
   "execution_count": 38,
   "id": "824c542c",
   "metadata": {},
   "outputs": [
    {
     "data": {
      "text/html": [
       "<div>\n",
       "<style scoped>\n",
       "    .dataframe tbody tr th:only-of-type {\n",
       "        vertical-align: middle;\n",
       "    }\n",
       "\n",
       "    .dataframe tbody tr th {\n",
       "        vertical-align: top;\n",
       "    }\n",
       "\n",
       "    .dataframe thead th {\n",
       "        text-align: right;\n",
       "    }\n",
       "</style>\n",
       "<table border=\"1\" class=\"dataframe\">\n",
       "  <thead>\n",
       "    <tr style=\"text-align: right;\">\n",
       "      <th></th>\n",
       "      <th>name</th>\n",
       "      <th>year</th>\n",
       "      <th>month</th>\n",
       "      <th>day</th>\n",
       "      <th>hour</th>\n",
       "      <th>latitude</th>\n",
       "      <th>longitude</th>\n",
       "      <th>status</th>\n",
       "      <th>category</th>\n",
       "      <th>wind_knots</th>\n",
       "      <th>pressure_hpa</th>\n",
       "      <th>trop_storm_force_wind_diameter</th>\n",
       "      <th>hurricane_force_wind_diameter</th>\n",
       "    </tr>\n",
       "  </thead>\n",
       "  <tbody>\n",
       "    <tr>\n",
       "      <th>12225</th>\n",
       "      <td>Wanda</td>\n",
       "      <td>2021</td>\n",
       "      <td>11</td>\n",
       "      <td>6</td>\n",
       "      <td>6</td>\n",
       "      <td>37.6</td>\n",
       "      <td>-38.3</td>\n",
       "      <td>tropical storm</td>\n",
       "      <td>0</td>\n",
       "      <td>45</td>\n",
       "      <td>1000</td>\n",
       "      <td>110.0</td>\n",
       "      <td>0.0</td>\n",
       "    </tr>\n",
       "    <tr>\n",
       "      <th>12226</th>\n",
       "      <td>Wanda</td>\n",
       "      <td>2021</td>\n",
       "      <td>11</td>\n",
       "      <td>6</td>\n",
       "      <td>12</td>\n",
       "      <td>37.2</td>\n",
       "      <td>-38.4</td>\n",
       "      <td>tropical storm</td>\n",
       "      <td>0</td>\n",
       "      <td>40</td>\n",
       "      <td>1001</td>\n",
       "      <td>100.0</td>\n",
       "      <td>0.0</td>\n",
       "    </tr>\n",
       "    <tr>\n",
       "      <th>12227</th>\n",
       "      <td>Wanda</td>\n",
       "      <td>2021</td>\n",
       "      <td>11</td>\n",
       "      <td>6</td>\n",
       "      <td>18</td>\n",
       "      <td>37.1</td>\n",
       "      <td>-38.0</td>\n",
       "      <td>tropical storm</td>\n",
       "      <td>0</td>\n",
       "      <td>35</td>\n",
       "      <td>1002</td>\n",
       "      <td>100.0</td>\n",
       "      <td>0.0</td>\n",
       "    </tr>\n",
       "    <tr>\n",
       "      <th>12228</th>\n",
       "      <td>Wanda</td>\n",
       "      <td>2021</td>\n",
       "      <td>11</td>\n",
       "      <td>7</td>\n",
       "      <td>0</td>\n",
       "      <td>37.4</td>\n",
       "      <td>-37.4</td>\n",
       "      <td>tropical storm</td>\n",
       "      <td>0</td>\n",
       "      <td>35</td>\n",
       "      <td>1003</td>\n",
       "      <td>60.0</td>\n",
       "      <td>0.0</td>\n",
       "    </tr>\n",
       "    <tr>\n",
       "      <th>12229</th>\n",
       "      <td>Wanda</td>\n",
       "      <td>2021</td>\n",
       "      <td>11</td>\n",
       "      <td>7</td>\n",
       "      <td>6</td>\n",
       "      <td>38.1</td>\n",
       "      <td>-36.4</td>\n",
       "      <td>tropical storm</td>\n",
       "      <td>0</td>\n",
       "      <td>35</td>\n",
       "      <td>1004</td>\n",
       "      <td>60.0</td>\n",
       "      <td>0.0</td>\n",
       "    </tr>\n",
       "  </tbody>\n",
       "</table>\n",
       "</div>"
      ],
      "text/plain": [
       "        name  year  month  day  hour  latitude  longitude          status  \\\n",
       "12225  Wanda  2021     11    6     6      37.6      -38.3  tropical storm   \n",
       "12226  Wanda  2021     11    6    12      37.2      -38.4  tropical storm   \n",
       "12227  Wanda  2021     11    6    18      37.1      -38.0  tropical storm   \n",
       "12228  Wanda  2021     11    7     0      37.4      -37.4  tropical storm   \n",
       "12229  Wanda  2021     11    7     6      38.1      -36.4  tropical storm   \n",
       "\n",
       "       category  wind_knots  pressure_hpa  trop_storm_force_wind_diameter  \\\n",
       "12225         0          45          1000                           110.0   \n",
       "12226         0          40          1001                           100.0   \n",
       "12227         0          35          1002                           100.0   \n",
       "12228         0          35          1003                            60.0   \n",
       "12229         0          35          1004                            60.0   \n",
       "\n",
       "       hurricane_force_wind_diameter  \n",
       "12225                            0.0  \n",
       "12226                            0.0  \n",
       "12227                            0.0  \n",
       "12228                            0.0  \n",
       "12229                            0.0  "
      ]
     },
     "execution_count": 38,
     "metadata": {},
     "output_type": "execute_result"
    }
   ],
   "source": [
    "storms.tail()"
   ]
  },
  {
   "cell_type": "code",
   "execution_count": 39,
   "id": "4b636e86",
   "metadata": {},
   "outputs": [
    {
     "data": {
      "text/plain": [
       "(12230, 13)"
      ]
     },
     "execution_count": 39,
     "metadata": {},
     "output_type": "execute_result"
    }
   ],
   "source": [
    "storms.shape"
   ]
  },
  {
   "cell_type": "markdown",
   "id": "ef11b197",
   "metadata": {},
   "source": [
    "# ========================================="
   ]
  },
  {
   "cell_type": "markdown",
   "id": "bf79c74d",
   "metadata": {},
   "source": [
    "# B. Understand your data. Develop a basic understanding of your data set by reviewing the variables and performing basic descriptive statistical analysis. "
   ]
  },
  {
   "cell_type": "code",
   "execution_count": 40,
   "id": "a9e33f4b",
   "metadata": {},
   "outputs": [
    {
     "data": {
      "text/html": [
       "<div>\n",
       "<style scoped>\n",
       "    .dataframe tbody tr th:only-of-type {\n",
       "        vertical-align: middle;\n",
       "    }\n",
       "\n",
       "    .dataframe tbody tr th {\n",
       "        vertical-align: top;\n",
       "    }\n",
       "\n",
       "    .dataframe thead th {\n",
       "        text-align: right;\n",
       "    }\n",
       "</style>\n",
       "<table border=\"1\" class=\"dataframe\">\n",
       "  <thead>\n",
       "    <tr style=\"text-align: right;\">\n",
       "      <th></th>\n",
       "      <th>name</th>\n",
       "      <th>year</th>\n",
       "      <th>month</th>\n",
       "      <th>day</th>\n",
       "      <th>hour</th>\n",
       "      <th>latitude</th>\n",
       "      <th>longitude</th>\n",
       "      <th>status</th>\n",
       "      <th>category</th>\n",
       "      <th>wind_knots</th>\n",
       "      <th>pressure_hpa</th>\n",
       "      <th>trop_storm_force_wind_diameter</th>\n",
       "      <th>hurricane_force_wind_diameter</th>\n",
       "    </tr>\n",
       "  </thead>\n",
       "  <tbody>\n",
       "    <tr>\n",
       "      <th>0</th>\n",
       "      <td>Amy</td>\n",
       "      <td>1975</td>\n",
       "      <td>6</td>\n",
       "      <td>27</td>\n",
       "      <td>0</td>\n",
       "      <td>27.5</td>\n",
       "      <td>-79.0</td>\n",
       "      <td>tropical depression</td>\n",
       "      <td>-1</td>\n",
       "      <td>25</td>\n",
       "      <td>1013</td>\n",
       "      <td>NaN</td>\n",
       "      <td>NaN</td>\n",
       "    </tr>\n",
       "    <tr>\n",
       "      <th>1</th>\n",
       "      <td>Amy</td>\n",
       "      <td>1975</td>\n",
       "      <td>6</td>\n",
       "      <td>27</td>\n",
       "      <td>6</td>\n",
       "      <td>28.5</td>\n",
       "      <td>-79.0</td>\n",
       "      <td>tropical depression</td>\n",
       "      <td>-1</td>\n",
       "      <td>25</td>\n",
       "      <td>1013</td>\n",
       "      <td>NaN</td>\n",
       "      <td>NaN</td>\n",
       "    </tr>\n",
       "    <tr>\n",
       "      <th>2</th>\n",
       "      <td>Amy</td>\n",
       "      <td>1975</td>\n",
       "      <td>6</td>\n",
       "      <td>27</td>\n",
       "      <td>12</td>\n",
       "      <td>29.5</td>\n",
       "      <td>-79.0</td>\n",
       "      <td>tropical depression</td>\n",
       "      <td>-1</td>\n",
       "      <td>25</td>\n",
       "      <td>1013</td>\n",
       "      <td>NaN</td>\n",
       "      <td>NaN</td>\n",
       "    </tr>\n",
       "    <tr>\n",
       "      <th>3</th>\n",
       "      <td>Amy</td>\n",
       "      <td>1975</td>\n",
       "      <td>6</td>\n",
       "      <td>27</td>\n",
       "      <td>18</td>\n",
       "      <td>30.5</td>\n",
       "      <td>-79.0</td>\n",
       "      <td>tropical depression</td>\n",
       "      <td>-1</td>\n",
       "      <td>25</td>\n",
       "      <td>1013</td>\n",
       "      <td>NaN</td>\n",
       "      <td>NaN</td>\n",
       "    </tr>\n",
       "    <tr>\n",
       "      <th>4</th>\n",
       "      <td>Amy</td>\n",
       "      <td>1975</td>\n",
       "      <td>6</td>\n",
       "      <td>28</td>\n",
       "      <td>0</td>\n",
       "      <td>31.5</td>\n",
       "      <td>-78.8</td>\n",
       "      <td>tropical depression</td>\n",
       "      <td>-1</td>\n",
       "      <td>25</td>\n",
       "      <td>1012</td>\n",
       "      <td>NaN</td>\n",
       "      <td>NaN</td>\n",
       "    </tr>\n",
       "    <tr>\n",
       "      <th>5</th>\n",
       "      <td>Amy</td>\n",
       "      <td>1975</td>\n",
       "      <td>6</td>\n",
       "      <td>28</td>\n",
       "      <td>6</td>\n",
       "      <td>32.4</td>\n",
       "      <td>-78.7</td>\n",
       "      <td>tropical depression</td>\n",
       "      <td>-1</td>\n",
       "      <td>25</td>\n",
       "      <td>1012</td>\n",
       "      <td>NaN</td>\n",
       "      <td>NaN</td>\n",
       "    </tr>\n",
       "    <tr>\n",
       "      <th>6</th>\n",
       "      <td>Amy</td>\n",
       "      <td>1975</td>\n",
       "      <td>6</td>\n",
       "      <td>28</td>\n",
       "      <td>12</td>\n",
       "      <td>33.3</td>\n",
       "      <td>-78.0</td>\n",
       "      <td>tropical depression</td>\n",
       "      <td>-1</td>\n",
       "      <td>25</td>\n",
       "      <td>1011</td>\n",
       "      <td>NaN</td>\n",
       "      <td>NaN</td>\n",
       "    </tr>\n",
       "    <tr>\n",
       "      <th>7</th>\n",
       "      <td>Amy</td>\n",
       "      <td>1975</td>\n",
       "      <td>6</td>\n",
       "      <td>28</td>\n",
       "      <td>18</td>\n",
       "      <td>34.0</td>\n",
       "      <td>-77.0</td>\n",
       "      <td>tropical depression</td>\n",
       "      <td>-1</td>\n",
       "      <td>30</td>\n",
       "      <td>1006</td>\n",
       "      <td>NaN</td>\n",
       "      <td>NaN</td>\n",
       "    </tr>\n",
       "    <tr>\n",
       "      <th>8</th>\n",
       "      <td>Amy</td>\n",
       "      <td>1975</td>\n",
       "      <td>6</td>\n",
       "      <td>29</td>\n",
       "      <td>0</td>\n",
       "      <td>34.4</td>\n",
       "      <td>-75.8</td>\n",
       "      <td>tropical storm</td>\n",
       "      <td>0</td>\n",
       "      <td>35</td>\n",
       "      <td>1004</td>\n",
       "      <td>NaN</td>\n",
       "      <td>NaN</td>\n",
       "    </tr>\n",
       "    <tr>\n",
       "      <th>9</th>\n",
       "      <td>Amy</td>\n",
       "      <td>1975</td>\n",
       "      <td>6</td>\n",
       "      <td>29</td>\n",
       "      <td>6</td>\n",
       "      <td>34.0</td>\n",
       "      <td>-74.8</td>\n",
       "      <td>tropical storm</td>\n",
       "      <td>0</td>\n",
       "      <td>40</td>\n",
       "      <td>1002</td>\n",
       "      <td>NaN</td>\n",
       "      <td>NaN</td>\n",
       "    </tr>\n",
       "    <tr>\n",
       "      <th>10</th>\n",
       "      <td>Amy</td>\n",
       "      <td>1975</td>\n",
       "      <td>6</td>\n",
       "      <td>29</td>\n",
       "      <td>12</td>\n",
       "      <td>33.8</td>\n",
       "      <td>-73.8</td>\n",
       "      <td>tropical storm</td>\n",
       "      <td>0</td>\n",
       "      <td>45</td>\n",
       "      <td>1000</td>\n",
       "      <td>NaN</td>\n",
       "      <td>NaN</td>\n",
       "    </tr>\n",
       "    <tr>\n",
       "      <th>11</th>\n",
       "      <td>Amy</td>\n",
       "      <td>1975</td>\n",
       "      <td>6</td>\n",
       "      <td>29</td>\n",
       "      <td>18</td>\n",
       "      <td>33.8</td>\n",
       "      <td>-72.8</td>\n",
       "      <td>tropical storm</td>\n",
       "      <td>0</td>\n",
       "      <td>50</td>\n",
       "      <td>998</td>\n",
       "      <td>NaN</td>\n",
       "      <td>NaN</td>\n",
       "    </tr>\n",
       "    <tr>\n",
       "      <th>12</th>\n",
       "      <td>Amy</td>\n",
       "      <td>1975</td>\n",
       "      <td>6</td>\n",
       "      <td>30</td>\n",
       "      <td>0</td>\n",
       "      <td>34.3</td>\n",
       "      <td>-71.6</td>\n",
       "      <td>tropical storm</td>\n",
       "      <td>0</td>\n",
       "      <td>50</td>\n",
       "      <td>998</td>\n",
       "      <td>NaN</td>\n",
       "      <td>NaN</td>\n",
       "    </tr>\n",
       "    <tr>\n",
       "      <th>13</th>\n",
       "      <td>Amy</td>\n",
       "      <td>1975</td>\n",
       "      <td>6</td>\n",
       "      <td>30</td>\n",
       "      <td>6</td>\n",
       "      <td>35.6</td>\n",
       "      <td>-70.8</td>\n",
       "      <td>tropical storm</td>\n",
       "      <td>0</td>\n",
       "      <td>55</td>\n",
       "      <td>998</td>\n",
       "      <td>NaN</td>\n",
       "      <td>NaN</td>\n",
       "    </tr>\n",
       "    <tr>\n",
       "      <th>14</th>\n",
       "      <td>Amy</td>\n",
       "      <td>1975</td>\n",
       "      <td>6</td>\n",
       "      <td>30</td>\n",
       "      <td>12</td>\n",
       "      <td>35.9</td>\n",
       "      <td>-70.5</td>\n",
       "      <td>tropical storm</td>\n",
       "      <td>0</td>\n",
       "      <td>60</td>\n",
       "      <td>987</td>\n",
       "      <td>NaN</td>\n",
       "      <td>NaN</td>\n",
       "    </tr>\n",
       "  </tbody>\n",
       "</table>\n",
       "</div>"
      ],
      "text/plain": [
       "   name  year  month  day  hour  latitude  longitude               status  \\\n",
       "0   Amy  1975      6   27     0      27.5      -79.0  tropical depression   \n",
       "1   Amy  1975      6   27     6      28.5      -79.0  tropical depression   \n",
       "2   Amy  1975      6   27    12      29.5      -79.0  tropical depression   \n",
       "3   Amy  1975      6   27    18      30.5      -79.0  tropical depression   \n",
       "4   Amy  1975      6   28     0      31.5      -78.8  tropical depression   \n",
       "5   Amy  1975      6   28     6      32.4      -78.7  tropical depression   \n",
       "6   Amy  1975      6   28    12      33.3      -78.0  tropical depression   \n",
       "7   Amy  1975      6   28    18      34.0      -77.0  tropical depression   \n",
       "8   Amy  1975      6   29     0      34.4      -75.8       tropical storm   \n",
       "9   Amy  1975      6   29     6      34.0      -74.8       tropical storm   \n",
       "10  Amy  1975      6   29    12      33.8      -73.8       tropical storm   \n",
       "11  Amy  1975      6   29    18      33.8      -72.8       tropical storm   \n",
       "12  Amy  1975      6   30     0      34.3      -71.6       tropical storm   \n",
       "13  Amy  1975      6   30     6      35.6      -70.8       tropical storm   \n",
       "14  Amy  1975      6   30    12      35.9      -70.5       tropical storm   \n",
       "\n",
       "    category  wind_knots  pressure_hpa  trop_storm_force_wind_diameter  \\\n",
       "0         -1          25          1013                             NaN   \n",
       "1         -1          25          1013                             NaN   \n",
       "2         -1          25          1013                             NaN   \n",
       "3         -1          25          1013                             NaN   \n",
       "4         -1          25          1012                             NaN   \n",
       "5         -1          25          1012                             NaN   \n",
       "6         -1          25          1011                             NaN   \n",
       "7         -1          30          1006                             NaN   \n",
       "8          0          35          1004                             NaN   \n",
       "9          0          40          1002                             NaN   \n",
       "10         0          45          1000                             NaN   \n",
       "11         0          50           998                             NaN   \n",
       "12         0          50           998                             NaN   \n",
       "13         0          55           998                             NaN   \n",
       "14         0          60           987                             NaN   \n",
       "\n",
       "    hurricane_force_wind_diameter  \n",
       "0                             NaN  \n",
       "1                             NaN  \n",
       "2                             NaN  \n",
       "3                             NaN  \n",
       "4                             NaN  \n",
       "5                             NaN  \n",
       "6                             NaN  \n",
       "7                             NaN  \n",
       "8                             NaN  \n",
       "9                             NaN  \n",
       "10                            NaN  \n",
       "11                            NaN  \n",
       "12                            NaN  \n",
       "13                            NaN  \n",
       "14                            NaN  "
      ]
     },
     "execution_count": 40,
     "metadata": {},
     "output_type": "execute_result"
    }
   ],
   "source": [
    "# Print head for reference\n",
    "\n",
    "storms.head(15)"
   ]
  },
  {
   "cell_type": "markdown",
   "id": "052b4271",
   "metadata": {},
   "source": [
    "# 1. Check mean, min, and max values for continuous variables."
   ]
  },
  {
   "cell_type": "code",
   "execution_count": 42,
   "id": "7bc5bf0c",
   "metadata": {},
   "outputs": [
    {
     "data": {
      "text/html": [
       "<div>\n",
       "<style scoped>\n",
       "    .dataframe tbody tr th:only-of-type {\n",
       "        vertical-align: middle;\n",
       "    }\n",
       "\n",
       "    .dataframe tbody tr th {\n",
       "        vertical-align: top;\n",
       "    }\n",
       "\n",
       "    .dataframe thead th {\n",
       "        text-align: right;\n",
       "    }\n",
       "</style>\n",
       "<table border=\"1\" class=\"dataframe\">\n",
       "  <thead>\n",
       "    <tr style=\"text-align: right;\">\n",
       "      <th></th>\n",
       "      <th>year</th>\n",
       "      <th>month</th>\n",
       "      <th>day</th>\n",
       "      <th>hour</th>\n",
       "      <th>latitude</th>\n",
       "      <th>longitude</th>\n",
       "      <th>category</th>\n",
       "      <th>wind_knots</th>\n",
       "      <th>pressure_hpa</th>\n",
       "      <th>trop_storm_force_wind_diameter</th>\n",
       "      <th>hurricane_force_wind_diameter</th>\n",
       "    </tr>\n",
       "  </thead>\n",
       "  <tbody>\n",
       "    <tr>\n",
       "      <th>count</th>\n",
       "      <td>12230.000000</td>\n",
       "      <td>12230.000000</td>\n",
       "      <td>12230.000000</td>\n",
       "      <td>12230.000000</td>\n",
       "      <td>12230.000000</td>\n",
       "      <td>12230.000000</td>\n",
       "      <td>12230.000000</td>\n",
       "      <td>12230.000000</td>\n",
       "      <td>12230.000000</td>\n",
       "      <td>5721.000000</td>\n",
       "      <td>5721.000000</td>\n",
       "    </tr>\n",
       "    <tr>\n",
       "      <th>mean</th>\n",
       "      <td>2001.880458</td>\n",
       "      <td>8.774734</td>\n",
       "      <td>15.812428</td>\n",
       "      <td>9.118479</td>\n",
       "      <td>24.782739</td>\n",
       "      <td>-64.006778</td>\n",
       "      <td>0.334260</td>\n",
       "      <td>53.704824</td>\n",
       "      <td>991.962388</td>\n",
       "      <td>144.103304</td>\n",
       "      <td>18.129698</td>\n",
       "    </tr>\n",
       "    <tr>\n",
       "      <th>std</th>\n",
       "      <td>12.291926</td>\n",
       "      <td>1.262258</td>\n",
       "      <td>8.974545</td>\n",
       "      <td>6.727572</td>\n",
       "      <td>8.547812</td>\n",
       "      <td>19.718927</td>\n",
       "      <td>1.276595</td>\n",
       "      <td>26.272792</td>\n",
       "      <td>19.597726</td>\n",
       "      <td>125.121619</td>\n",
       "      <td>35.341584</td>\n",
       "    </tr>\n",
       "    <tr>\n",
       "      <th>min</th>\n",
       "      <td>1975.000000</td>\n",
       "      <td>1.000000</td>\n",
       "      <td>1.000000</td>\n",
       "      <td>0.000000</td>\n",
       "      <td>7.200000</td>\n",
       "      <td>-109.300000</td>\n",
       "      <td>-1.000000</td>\n",
       "      <td>10.000000</td>\n",
       "      <td>882.000000</td>\n",
       "      <td>0.000000</td>\n",
       "      <td>0.000000</td>\n",
       "    </tr>\n",
       "    <tr>\n",
       "      <th>25%</th>\n",
       "      <td>1993.000000</td>\n",
       "      <td>8.000000</td>\n",
       "      <td>8.000000</td>\n",
       "      <td>6.000000</td>\n",
       "      <td>17.500000</td>\n",
       "      <td>-80.600000</td>\n",
       "      <td>0.000000</td>\n",
       "      <td>35.000000</td>\n",
       "      <td>985.000000</td>\n",
       "      <td>50.000000</td>\n",
       "      <td>0.000000</td>\n",
       "    </tr>\n",
       "    <tr>\n",
       "      <th>50%</th>\n",
       "      <td>2003.000000</td>\n",
       "      <td>9.000000</td>\n",
       "      <td>16.000000</td>\n",
       "      <td>12.000000</td>\n",
       "      <td>24.600000</td>\n",
       "      <td>-64.200000</td>\n",
       "      <td>0.000000</td>\n",
       "      <td>45.000000</td>\n",
       "      <td>999.000000</td>\n",
       "      <td>120.000000</td>\n",
       "      <td>0.000000</td>\n",
       "    </tr>\n",
       "    <tr>\n",
       "      <th>75%</th>\n",
       "      <td>2012.000000</td>\n",
       "      <td>9.000000</td>\n",
       "      <td>24.000000</td>\n",
       "      <td>18.000000</td>\n",
       "      <td>31.300000</td>\n",
       "      <td>-48.400000</td>\n",
       "      <td>1.000000</td>\n",
       "      <td>65.000000</td>\n",
       "      <td>1006.000000</td>\n",
       "      <td>210.000000</td>\n",
       "      <td>25.000000</td>\n",
       "    </tr>\n",
       "    <tr>\n",
       "      <th>max</th>\n",
       "      <td>2021.000000</td>\n",
       "      <td>12.000000</td>\n",
       "      <td>31.000000</td>\n",
       "      <td>23.000000</td>\n",
       "      <td>51.900000</td>\n",
       "      <td>-6.000000</td>\n",
       "      <td>5.000000</td>\n",
       "      <td>160.000000</td>\n",
       "      <td>1022.000000</td>\n",
       "      <td>870.000000</td>\n",
       "      <td>300.000000</td>\n",
       "    </tr>\n",
       "  </tbody>\n",
       "</table>\n",
       "</div>"
      ],
      "text/plain": [
       "               year         month           day          hour      latitude  \\\n",
       "count  12230.000000  12230.000000  12230.000000  12230.000000  12230.000000   \n",
       "mean    2001.880458      8.774734     15.812428      9.118479     24.782739   \n",
       "std       12.291926      1.262258      8.974545      6.727572      8.547812   \n",
       "min     1975.000000      1.000000      1.000000      0.000000      7.200000   \n",
       "25%     1993.000000      8.000000      8.000000      6.000000     17.500000   \n",
       "50%     2003.000000      9.000000     16.000000     12.000000     24.600000   \n",
       "75%     2012.000000      9.000000     24.000000     18.000000     31.300000   \n",
       "max     2021.000000     12.000000     31.000000     23.000000     51.900000   \n",
       "\n",
       "          longitude      category    wind_knots  pressure_hpa  \\\n",
       "count  12230.000000  12230.000000  12230.000000  12230.000000   \n",
       "mean     -64.006778      0.334260     53.704824    991.962388   \n",
       "std       19.718927      1.276595     26.272792     19.597726   \n",
       "min     -109.300000     -1.000000     10.000000    882.000000   \n",
       "25%      -80.600000      0.000000     35.000000    985.000000   \n",
       "50%      -64.200000      0.000000     45.000000    999.000000   \n",
       "75%      -48.400000      1.000000     65.000000   1006.000000   \n",
       "max       -6.000000      5.000000    160.000000   1022.000000   \n",
       "\n",
       "       trop_storm_force_wind_diameter  hurricane_force_wind_diameter  \n",
       "count                     5721.000000                    5721.000000  \n",
       "mean                       144.103304                      18.129698  \n",
       "std                        125.121619                      35.341584  \n",
       "min                          0.000000                       0.000000  \n",
       "25%                         50.000000                       0.000000  \n",
       "50%                        120.000000                       0.000000  \n",
       "75%                        210.000000                      25.000000  \n",
       "max                        870.000000                     300.000000  "
      ]
     },
     "execution_count": 42,
     "metadata": {},
     "output_type": "execute_result"
    }
   ],
   "source": [
    "storms.describe()"
   ]
  },
  {
   "cell_type": "markdown",
   "id": "863464f0",
   "metadata": {},
   "source": [
    "## The aggregate values for time variables appear accurate based on expected minimums and maximums (no value greater than 12 for month, 31 for day, or 23 for hour). Further investigation should be performed for 'hurricane_force_wind_diameter' values containing '0' as opposed to 'NaN'."
   ]
  },
  {
   "cell_type": "code",
   "execution_count": 43,
   "id": "6695660c",
   "metadata": {},
   "outputs": [],
   "source": [
    "# Export descriptive statistics as csv\n",
    "\n",
    "storms.describe().to_csv(os.path.join(path, '02 Data', 'Prepared Data', 'storms_stats.csv'))"
   ]
  },
  {
   "cell_type": "markdown",
   "id": "74fff61f",
   "metadata": {},
   "source": [
    "# 2. Export cleaned dataset as csv."
   ]
  },
  {
   "cell_type": "code",
   "execution_count": 44,
   "id": "2bbf9cf0",
   "metadata": {},
   "outputs": [],
   "source": [
    "storms.to_csv(os.path.join(path, '02 Data', 'Prepared Data', 'storms_cleaned.csv'))"
   ]
  },
  {
   "cell_type": "code",
   "execution_count": null,
   "id": "a02d54da",
   "metadata": {},
   "outputs": [],
   "source": []
  }
 ],
 "metadata": {
  "kernelspec": {
   "display_name": "Python 3 (ipykernel)",
   "language": "python",
   "name": "python3"
  },
  "language_info": {
   "codemirror_mode": {
    "name": "ipython",
    "version": 3
   },
   "file_extension": ".py",
   "mimetype": "text/x-python",
   "name": "python",
   "nbconvert_exporter": "python",
   "pygments_lexer": "ipython3",
   "version": "3.9.12"
  }
 },
 "nbformat": 4,
 "nbformat_minor": 5
}
