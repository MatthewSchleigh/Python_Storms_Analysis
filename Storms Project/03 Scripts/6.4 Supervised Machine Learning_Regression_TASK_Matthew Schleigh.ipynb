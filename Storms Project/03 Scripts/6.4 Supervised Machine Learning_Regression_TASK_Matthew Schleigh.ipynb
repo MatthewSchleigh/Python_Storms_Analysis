{
 "cells": [
  {
   "cell_type": "markdown",
   "id": "fd375cfe",
   "metadata": {},
   "source": [
    "# TASK"
   ]
  },
  {
   "cell_type": "markdown",
   "id": "2efad549",
   "metadata": {},
   "source": [
    "# ==========="
   ]
  },
  {
   "cell_type": "markdown",
   "id": "f7947208",
   "metadata": {},
   "source": [
    "## In this notebook, find sections related to supervised machine learning for variables within the Storms Project for the Atlantic basin. It includes:\n",
    "\n",
    "### -Importing libraries and data\n",
    "### -Cleaning and wrangling steps\n",
    "### -Exploratory visual analysis\n",
    "### -Hypothesis development\n",
    "### -Test and Training sets \n",
    "### -Linear regression models\n",
    "### -Performance statistics\n",
    "### -Summary and reflections"
   ]
  },
  {
   "cell_type": "markdown",
   "id": "d0103445",
   "metadata": {},
   "source": [
    "# ==========="
   ]
  },
  {
   "cell_type": "markdown",
   "id": "824c3b8d",
   "metadata": {},
   "source": [
    "# Import libraries and data"
   ]
  },
  {
   "cell_type": "code",
   "execution_count": 1,
   "id": "cb135f8b",
   "metadata": {},
   "outputs": [],
   "source": [
    "# Import libraries\n",
    "\n",
    "import pandas as pd\n",
    "import numpy as np\n",
    "import seaborn as sns\n",
    "import matplotlib\n",
    "import matplotlib.pyplot as plt\n",
    "import os\n",
    "import sklearn\n",
    "from sklearn.model_selection import train_test_split \n",
    "from sklearn.linear_model import LinearRegression\n",
    "from sklearn.metrics import mean_squared_error, r2_score"
   ]
  },
  {
   "cell_type": "code",
   "execution_count": 2,
   "id": "d9f989dd",
   "metadata": {},
   "outputs": [],
   "source": [
    "# This option ensures that the graphs you create are displayed within the notebook without the need to \"call\" them specifically.\n",
    "\n",
    "%matplotlib inline"
   ]
  },
  {
   "cell_type": "code",
   "execution_count": 3,
   "id": "21de3428",
   "metadata": {},
   "outputs": [],
   "source": [
    "# Define path\n",
    "\n",
    "path = r'/Users/matthewschleigh/Desktop/CareerFoundry/Achievement 6/Storms Project'"
   ]
  },
  {
   "cell_type": "code",
   "execution_count": 4,
   "id": "455ccd7d",
   "metadata": {},
   "outputs": [],
   "source": [
    "# Import data\n",
    "\n",
    "df = pd.read_csv(os.path.join(path, '02 Data', 'Prepared Data', 'storms_cleaned_v3.csv'))"
   ]
  },
  {
   "cell_type": "code",
   "execution_count": 5,
   "id": "ba15a1da",
   "metadata": {},
   "outputs": [
    {
     "data": {
      "text/html": [
       "<div>\n",
       "<style scoped>\n",
       "    .dataframe tbody tr th:only-of-type {\n",
       "        vertical-align: middle;\n",
       "    }\n",
       "\n",
       "    .dataframe tbody tr th {\n",
       "        vertical-align: top;\n",
       "    }\n",
       "\n",
       "    .dataframe thead th {\n",
       "        text-align: right;\n",
       "    }\n",
       "</style>\n",
       "<table border=\"1\" class=\"dataframe\">\n",
       "  <thead>\n",
       "    <tr style=\"text-align: right;\">\n",
       "      <th></th>\n",
       "      <th>Unnamed: 0</th>\n",
       "      <th>name</th>\n",
       "      <th>year</th>\n",
       "      <th>month</th>\n",
       "      <th>day</th>\n",
       "      <th>hour</th>\n",
       "      <th>latitude</th>\n",
       "      <th>longitude</th>\n",
       "      <th>status</th>\n",
       "      <th>category</th>\n",
       "      <th>wind_knots</th>\n",
       "      <th>pressure_hpa</th>\n",
       "      <th>trop_storm_force_wind_diameter</th>\n",
       "      <th>hurricane_force_wind_diameter</th>\n",
       "    </tr>\n",
       "  </thead>\n",
       "  <tbody>\n",
       "    <tr>\n",
       "      <th>0</th>\n",
       "      <td>0</td>\n",
       "      <td>Amy</td>\n",
       "      <td>1975</td>\n",
       "      <td>6</td>\n",
       "      <td>27</td>\n",
       "      <td>0</td>\n",
       "      <td>27.5</td>\n",
       "      <td>-79.0</td>\n",
       "      <td>tropical depression</td>\n",
       "      <td>-1</td>\n",
       "      <td>25</td>\n",
       "      <td>1013</td>\n",
       "      <td>0</td>\n",
       "      <td>0</td>\n",
       "    </tr>\n",
       "    <tr>\n",
       "      <th>1</th>\n",
       "      <td>1</td>\n",
       "      <td>Amy</td>\n",
       "      <td>1975</td>\n",
       "      <td>6</td>\n",
       "      <td>27</td>\n",
       "      <td>6</td>\n",
       "      <td>28.5</td>\n",
       "      <td>-79.0</td>\n",
       "      <td>tropical depression</td>\n",
       "      <td>-1</td>\n",
       "      <td>25</td>\n",
       "      <td>1013</td>\n",
       "      <td>0</td>\n",
       "      <td>0</td>\n",
       "    </tr>\n",
       "    <tr>\n",
       "      <th>2</th>\n",
       "      <td>2</td>\n",
       "      <td>Amy</td>\n",
       "      <td>1975</td>\n",
       "      <td>6</td>\n",
       "      <td>27</td>\n",
       "      <td>12</td>\n",
       "      <td>29.5</td>\n",
       "      <td>-79.0</td>\n",
       "      <td>tropical depression</td>\n",
       "      <td>-1</td>\n",
       "      <td>25</td>\n",
       "      <td>1013</td>\n",
       "      <td>0</td>\n",
       "      <td>0</td>\n",
       "    </tr>\n",
       "    <tr>\n",
       "      <th>3</th>\n",
       "      <td>3</td>\n",
       "      <td>Amy</td>\n",
       "      <td>1975</td>\n",
       "      <td>6</td>\n",
       "      <td>27</td>\n",
       "      <td>18</td>\n",
       "      <td>30.5</td>\n",
       "      <td>-79.0</td>\n",
       "      <td>tropical depression</td>\n",
       "      <td>-1</td>\n",
       "      <td>25</td>\n",
       "      <td>1013</td>\n",
       "      <td>0</td>\n",
       "      <td>0</td>\n",
       "    </tr>\n",
       "    <tr>\n",
       "      <th>4</th>\n",
       "      <td>4</td>\n",
       "      <td>Amy</td>\n",
       "      <td>1975</td>\n",
       "      <td>6</td>\n",
       "      <td>28</td>\n",
       "      <td>0</td>\n",
       "      <td>31.5</td>\n",
       "      <td>-78.8</td>\n",
       "      <td>tropical depression</td>\n",
       "      <td>-1</td>\n",
       "      <td>25</td>\n",
       "      <td>1012</td>\n",
       "      <td>0</td>\n",
       "      <td>0</td>\n",
       "    </tr>\n",
       "  </tbody>\n",
       "</table>\n",
       "</div>"
      ],
      "text/plain": [
       "   Unnamed: 0 name  year  month  day  hour  latitude  longitude  \\\n",
       "0           0  Amy  1975      6   27     0      27.5      -79.0   \n",
       "1           1  Amy  1975      6   27     6      28.5      -79.0   \n",
       "2           2  Amy  1975      6   27    12      29.5      -79.0   \n",
       "3           3  Amy  1975      6   27    18      30.5      -79.0   \n",
       "4           4  Amy  1975      6   28     0      31.5      -78.8   \n",
       "\n",
       "                status  category  wind_knots  pressure_hpa  \\\n",
       "0  tropical depression        -1          25          1013   \n",
       "1  tropical depression        -1          25          1013   \n",
       "2  tropical depression        -1          25          1013   \n",
       "3  tropical depression        -1          25          1013   \n",
       "4  tropical depression        -1          25          1012   \n",
       "\n",
       "   trop_storm_force_wind_diameter  hurricane_force_wind_diameter  \n",
       "0                               0                              0  \n",
       "1                               0                              0  \n",
       "2                               0                              0  \n",
       "3                               0                              0  \n",
       "4                               0                              0  "
      ]
     },
     "execution_count": 5,
     "metadata": {},
     "output_type": "execute_result"
    }
   ],
   "source": [
    "df.head()"
   ]
  },
  {
   "cell_type": "code",
   "execution_count": 6,
   "id": "6400dba2",
   "metadata": {},
   "outputs": [
    {
     "data": {
      "text/plain": [
       "(12230, 14)"
      ]
     },
     "execution_count": 6,
     "metadata": {},
     "output_type": "execute_result"
    }
   ],
   "source": [
    "df.shape"
   ]
  },
  {
   "cell_type": "markdown",
   "id": "21d97dbd",
   "metadata": {},
   "source": [
    "# Clean your data so that it’s ready for analysis."
   ]
  },
  {
   "cell_type": "markdown",
   "id": "c9064b9b",
   "metadata": {},
   "source": [
    "## Check missing values"
   ]
  },
  {
   "cell_type": "code",
   "execution_count": 12,
   "id": "ccf5bd8c",
   "metadata": {},
   "outputs": [
    {
     "data": {
      "text/plain": [
       "Unnamed: 0                        0\n",
       "name                              0\n",
       "year                              0\n",
       "month                             0\n",
       "day                               0\n",
       "hour                              0\n",
       "latitude                          0\n",
       "longitude                         0\n",
       "status                            0\n",
       "category                          0\n",
       "wind_knots                        0\n",
       "pressure_hpa                      0\n",
       "trop_storm_force_wind_diameter    0\n",
       "hurricane_force_wind_diameter     0\n",
       "dtype: int64"
      ]
     },
     "execution_count": 12,
     "metadata": {},
     "output_type": "execute_result"
    }
   ],
   "source": [
    "df.isnull().sum()"
   ]
  },
  {
   "cell_type": "markdown",
   "id": "fa2d71cf",
   "metadata": {},
   "source": [
    "## Check duplicates"
   ]
  },
  {
   "cell_type": "code",
   "execution_count": 13,
   "id": "21a4c9a5",
   "metadata": {},
   "outputs": [],
   "source": [
    "dups = df.duplicated()"
   ]
  },
  {
   "cell_type": "code",
   "execution_count": 15,
   "id": "47282284",
   "metadata": {},
   "outputs": [
    {
     "data": {
      "text/plain": [
       "(12230,)"
      ]
     },
     "execution_count": 15,
     "metadata": {},
     "output_type": "execute_result"
    }
   ],
   "source": [
    "dups.shape"
   ]
  },
  {
   "cell_type": "markdown",
   "id": "cd6f8b9e",
   "metadata": {},
   "source": [
    "## Extreme values check"
   ]
  },
  {
   "cell_type": "code",
   "execution_count": 16,
   "id": "c9e11422",
   "metadata": {},
   "outputs": [
    {
     "data": {
      "image/png": "[encoded data removed]",
      "text/plain": [
       "<Figure size 432x288 with 1 Axes>"
      ]
     },
     "metadata": {
      "needs_background": "light"
     },
     "output_type": "display_data"
    }
   ],
   "source": [
    "df_hurr_diam = sns.histplot(df['hurricane_force_wind_diameter'], bins=20)"
   ]
  },
  {
   "cell_type": "code",
   "execution_count": 18,
   "id": "c12ce872",
   "metadata": {},
   "outputs": [
    {
     "data": {
      "image/png": "[encoded data removed]",
      "text/plain": [
       "<Figure size 432x288 with 1 Axes>"
      ]
     },
     "metadata": {
      "needs_background": "light"
     },
     "output_type": "display_data"
    }
   ],
   "source": [
    "df_trop_diam = sns.histplot(df['trop_storm_force_wind_diameter'], bins=20)"
   ]
  },
  {
   "cell_type": "markdown",
   "id": "399a9840",
   "metadata": {},
   "source": [
    "### As discovered previously, there are quite a number of 0's present in both of these categories. It could be prudent to examine their relationships with those values omitted, provided enough observations remain."
   ]
  },
  {
   "cell_type": "code",
   "execution_count": 19,
   "id": "effb3975",
   "metadata": {},
   "outputs": [
    {
     "data": {
      "image/png": "[encoded data removed]",
      "text/plain": [
       "<Figure size 432x288 with 1 Axes>"
      ]
     },
     "metadata": {
      "needs_background": "light"
     },
     "output_type": "display_data"
    }
   ],
   "source": [
    "df_wind = sns.histplot(df['wind_knots'], bins=10)"
   ]
  },
  {
   "cell_type": "code",
   "execution_count": 20,
   "id": "8863def7",
   "metadata": {},
   "outputs": [],
   "source": [
    "# remove unwanted column\n",
    "\n",
    "df = df.drop(columns = ['Unnamed: 0'])"
   ]
  },
  {
   "cell_type": "code",
   "execution_count": 21,
   "id": "cc869c79",
   "metadata": {},
   "outputs": [
    {
     "data": {
      "text/html": [
       "<div>\n",
       "<style scoped>\n",
       "    .dataframe tbody tr th:only-of-type {\n",
       "        vertical-align: middle;\n",
       "    }\n",
       "\n",
       "    .dataframe tbody tr th {\n",
       "        vertical-align: top;\n",
       "    }\n",
       "\n",
       "    .dataframe thead th {\n",
       "        text-align: right;\n",
       "    }\n",
       "</style>\n",
       "<table border=\"1\" class=\"dataframe\">\n",
       "  <thead>\n",
       "    <tr style=\"text-align: right;\">\n",
       "      <th></th>\n",
       "      <th>name</th>\n",
       "      <th>year</th>\n",
       "      <th>month</th>\n",
       "      <th>day</th>\n",
       "      <th>hour</th>\n",
       "      <th>latitude</th>\n",
       "      <th>longitude</th>\n",
       "      <th>status</th>\n",
       "      <th>category</th>\n",
       "      <th>wind_knots</th>\n",
       "      <th>pressure_hpa</th>\n",
       "      <th>trop_storm_force_wind_diameter</th>\n",
       "      <th>hurricane_force_wind_diameter</th>\n",
       "    </tr>\n",
       "  </thead>\n",
       "  <tbody>\n",
       "    <tr>\n",
       "      <th>0</th>\n",
       "      <td>Amy</td>\n",
       "      <td>1975</td>\n",
       "      <td>6</td>\n",
       "      <td>27</td>\n",
       "      <td>0</td>\n",
       "      <td>27.5</td>\n",
       "      <td>-79.0</td>\n",
       "      <td>tropical depression</td>\n",
       "      <td>-1</td>\n",
       "      <td>25</td>\n",
       "      <td>1013</td>\n",
       "      <td>0</td>\n",
       "      <td>0</td>\n",
       "    </tr>\n",
       "    <tr>\n",
       "      <th>1</th>\n",
       "      <td>Amy</td>\n",
       "      <td>1975</td>\n",
       "      <td>6</td>\n",
       "      <td>27</td>\n",
       "      <td>6</td>\n",
       "      <td>28.5</td>\n",
       "      <td>-79.0</td>\n",
       "      <td>tropical depression</td>\n",
       "      <td>-1</td>\n",
       "      <td>25</td>\n",
       "      <td>1013</td>\n",
       "      <td>0</td>\n",
       "      <td>0</td>\n",
       "    </tr>\n",
       "    <tr>\n",
       "      <th>2</th>\n",
       "      <td>Amy</td>\n",
       "      <td>1975</td>\n",
       "      <td>6</td>\n",
       "      <td>27</td>\n",
       "      <td>12</td>\n",
       "      <td>29.5</td>\n",
       "      <td>-79.0</td>\n",
       "      <td>tropical depression</td>\n",
       "      <td>-1</td>\n",
       "      <td>25</td>\n",
       "      <td>1013</td>\n",
       "      <td>0</td>\n",
       "      <td>0</td>\n",
       "    </tr>\n",
       "    <tr>\n",
       "      <th>3</th>\n",
       "      <td>Amy</td>\n",
       "      <td>1975</td>\n",
       "      <td>6</td>\n",
       "      <td>27</td>\n",
       "      <td>18</td>\n",
       "      <td>30.5</td>\n",
       "      <td>-79.0</td>\n",
       "      <td>tropical depression</td>\n",
       "      <td>-1</td>\n",
       "      <td>25</td>\n",
       "      <td>1013</td>\n",
       "      <td>0</td>\n",
       "      <td>0</td>\n",
       "    </tr>\n",
       "    <tr>\n",
       "      <th>4</th>\n",
       "      <td>Amy</td>\n",
       "      <td>1975</td>\n",
       "      <td>6</td>\n",
       "      <td>28</td>\n",
       "      <td>0</td>\n",
       "      <td>31.5</td>\n",
       "      <td>-78.8</td>\n",
       "      <td>tropical depression</td>\n",
       "      <td>-1</td>\n",
       "      <td>25</td>\n",
       "      <td>1012</td>\n",
       "      <td>0</td>\n",
       "      <td>0</td>\n",
       "    </tr>\n",
       "  </tbody>\n",
       "</table>\n",
       "</div>"
      ],
      "text/plain": [
       "  name  year  month  day  hour  latitude  longitude               status  \\\n",
       "0  Amy  1975      6   27     0      27.5      -79.0  tropical depression   \n",
       "1  Amy  1975      6   27     6      28.5      -79.0  tropical depression   \n",
       "2  Amy  1975      6   27    12      29.5      -79.0  tropical depression   \n",
       "3  Amy  1975      6   27    18      30.5      -79.0  tropical depression   \n",
       "4  Amy  1975      6   28     0      31.5      -78.8  tropical depression   \n",
       "\n",
       "   category  wind_knots  pressure_hpa  trop_storm_force_wind_diameter  \\\n",
       "0        -1          25          1013                               0   \n",
       "1        -1          25          1013                               0   \n",
       "2        -1          25          1013                               0   \n",
       "3        -1          25          1013                               0   \n",
       "4        -1          25          1012                               0   \n",
       "\n",
       "   hurricane_force_wind_diameter  \n",
       "0                              0  \n",
       "1                              0  \n",
       "2                              0  \n",
       "3                              0  \n",
       "4                              0  "
      ]
     },
     "execution_count": 21,
     "metadata": {},
     "output_type": "execute_result"
    }
   ],
   "source": [
    "df.head()"
   ]
  },
  {
   "cell_type": "code",
   "execution_count": 22,
   "id": "fd7b8f4b",
   "metadata": {},
   "outputs": [
    {
     "data": {
      "text/plain": [
       "(12230, 13)"
      ]
     },
     "execution_count": 22,
     "metadata": {},
     "output_type": "execute_result"
    }
   ],
   "source": [
    "df.shape"
   ]
  },
  {
   "cell_type": "markdown",
   "id": "57e021c0",
   "metadata": {},
   "source": [
    "# Explore your data visually (e.g., by way of a scatterplot), looking for variables whose relationship you’d like to test."
   ]
  },
  {
   "cell_type": "markdown",
   "id": "74776b10",
   "metadata": {},
   "source": [
    "## I'd like to explore the relationship of wind speed to force wind diameter."
   ]
  },
  {
   "cell_type": "code",
   "execution_count": 46,
   "id": "7bc44b53",
   "metadata": {},
   "outputs": [
    {
     "data": {
      "text/plain": [
       "<AxesSubplot:xlabel='wind_knots', ylabel='Count'>"
      ]
     },
     "execution_count": 46,
     "metadata": {},
     "output_type": "execute_result"
    },
    {
     "data": {
      "image/png": "[encoded data removed]",
      "text/plain": [
       "<Figure size 432x288 with 1 Axes>"
      ]
     },
     "metadata": {
      "needs_background": "light"
     },
     "output_type": "display_data"
    }
   ],
   "source": [
    "# create a histogram for wind speed\n",
    "\n",
    "sns.histplot(df['wind_knots'], bins=20)"
   ]
  },
  {
   "cell_type": "code",
   "execution_count": 47,
   "id": "865243ea",
   "metadata": {},
   "outputs": [
    {
     "data": {
      "image/png": "[encoded data removed]",
      "text/plain": [
       "<Figure size 432x288 with 1 Axes>"
      ]
     },
     "metadata": {
      "needs_background": "light"
     },
     "output_type": "display_data"
    }
   ],
   "source": [
    "#  Create scatterplot for 'wind_knots' and 'trop_storm_force_wind_diameter'\n",
    "\n",
    "df.plot(x = 'wind_knots', y='trop_storm_force_wind_diameter',style='o') # The style option creates a scatterplot; without it, we only have lines.\n",
    "plt.title('Tropical storm force wind diameters by wind speed')  \n",
    "plt.xlabel('Wind speed in knots')  \n",
    "plt.ylabel('Wind diameter in miles')  \n",
    "plt.show()"
   ]
  },
  {
   "cell_type": "code",
   "execution_count": 48,
   "id": "71aff052",
   "metadata": {},
   "outputs": [
    {
     "data": {
      "image/png": "[encoded data removed]",
      "text/plain": [
       "<Figure size 432x288 with 1 Axes>"
      ]
     },
     "metadata": {
      "needs_background": "light"
     },
     "output_type": "display_data"
    }
   ],
   "source": [
    "#  Create scatterplot for 'wind_knots' and 'hurricane_force_wind_diameter'\n",
    "\n",
    "df.plot(x = 'wind_knots', y='hurricane_force_wind_diameter',style='o') # The style option creates a scatterplot; without it, we only have lines.\n",
    "plt.title('Hurricane force wind diameters by wind speed')  \n",
    "plt.xlabel('Wind speed in knots')  \n",
    "plt.ylabel('Wind diameter in miles')  \n",
    "plt.show()"
   ]
  },
  {
   "cell_type": "markdown",
   "id": "c09f69ed",
   "metadata": {},
   "source": [
    "# State your hypothesis in a markdown cell within your Jupyter notebook."
   ]
  },
  {
   "cell_type": "markdown",
   "id": "6b9d1630",
   "metadata": {},
   "source": [
    "## Looking at these two scatterplots, there's perhaps a slight suggestion of a right skewed correlation, meaning a subtle negative relationship. If a storm's wind speed increases, then its size measured by its wind force decreases."
   ]
  },
  {
   "cell_type": "markdown",
   "id": "9b445c58",
   "metadata": {},
   "source": [
    "# Reshape the variables into NumPy arrays, with X being the independent variable and y being the dependent variable."
   ]
  },
  {
   "cell_type": "code",
   "execution_count": 49,
   "id": "162ab555",
   "metadata": {},
   "outputs": [],
   "source": [
    "X = df['wind_knots'].values.reshape(-1,1)\n",
    "y = df['trop_storm_force_wind_diameter'].values.reshape(-1,1)"
   ]
  },
  {
   "cell_type": "code",
   "execution_count": 50,
   "id": "c3505dbb",
   "metadata": {},
   "outputs": [
    {
     "data": {
      "text/plain": [
       "array([[25],\n",
       "       [25],\n",
       "       [25],\n",
       "       ...,\n",
       "       [35],\n",
       "       [35],\n",
       "       [35]])"
      ]
     },
     "execution_count": 50,
     "metadata": {},
     "output_type": "execute_result"
    }
   ],
   "source": [
    "X"
   ]
  },
  {
   "cell_type": "code",
   "execution_count": 51,
   "id": "7d3cc361",
   "metadata": {},
   "outputs": [
    {
     "data": {
      "text/plain": [
       "array([[  0],\n",
       "       [  0],\n",
       "       [  0],\n",
       "       ...,\n",
       "       [100],\n",
       "       [ 60],\n",
       "       [ 60]])"
      ]
     },
     "execution_count": 51,
     "metadata": {},
     "output_type": "execute_result"
    }
   ],
   "source": [
    "y"
   ]
  },
  {
   "cell_type": "markdown",
   "id": "330a5ee7",
   "metadata": {},
   "source": [
    "# Split the data into two sets: a training set and a test set."
   ]
  },
  {
   "cell_type": "code",
   "execution_count": 52,
   "id": "e5becf9f",
   "metadata": {},
   "outputs": [],
   "source": [
    "X_train, X_test, y_train, y_test = train_test_split(X, y, test_size=0.3, random_state=0)"
   ]
  },
  {
   "cell_type": "markdown",
   "id": "19ac2c9d",
   "metadata": {},
   "source": [
    "# Run a linear regression on the data.\n",
    "## First, fit the model you created to the training set.\n",
    "## Then, create a prediction for y on the test set."
   ]
  },
  {
   "cell_type": "code",
   "execution_count": 53,
   "id": "216e2cf8",
   "metadata": {},
   "outputs": [],
   "source": [
    "# Create regression object\n",
    "\n",
    "regression = LinearRegression()"
   ]
  },
  {
   "cell_type": "code",
   "execution_count": 54,
   "id": "55336e04",
   "metadata": {},
   "outputs": [
    {
     "data": {
      "text/plain": [
       "LinearRegression()"
      ]
     },
     "execution_count": 54,
     "metadata": {},
     "output_type": "execute_result"
    }
   ],
   "source": [
    "# Fit regression object onto the training set.\n",
    "\n",
    "regression.fit(X_train, y_train)"
   ]
  },
  {
   "cell_type": "code",
   "execution_count": 55,
   "id": "827856bd",
   "metadata": {},
   "outputs": [],
   "source": [
    "# Predict the values of y using X.\n",
    "\n",
    "y_predicted = regression.predict(X_test)"
   ]
  },
  {
   "cell_type": "markdown",
   "id": "eea8d0e9",
   "metadata": {},
   "source": [
    "# Create a plot that shows the regression line on the test set."
   ]
  },
  {
   "cell_type": "code",
   "execution_count": 56,
   "id": "5a130a09",
   "metadata": {},
   "outputs": [
    {
     "data": {
      "image/png": "[encoded data removed]",
      "text/plain": [
       "<Figure size 432x288 with 1 Axes>"
      ]
     },
     "metadata": {
      "needs_background": "light"
     },
     "output_type": "display_data"
    }
   ],
   "source": [
    "# Create a plot that shows the regression line from the model on the test set.\n",
    "\n",
    "plot_test = plt\n",
    "plot_test.scatter(X_test, y_test, color='gray', s = 15)\n",
    "plot_test.plot(X_test, y_predicted, color='red', linewidth =3)\n",
    "plot_test.title('Tropical storm wind speed vs force wind diameter (Test set)')\n",
    "plot_test.xlabel('Wind speed in knots')\n",
    "plot_test.ylabel('Wind diameter in miles')\n",
    "plot_test.show()"
   ]
  },
  {
   "cell_type": "markdown",
   "id": "770f05be",
   "metadata": {},
   "source": [
    "# Write your own interpretation of how well the line appears to fit the data in a markdown cell."
   ]
  },
  {
   "cell_type": "markdown",
   "id": "b982808c",
   "metadata": {},
   "source": [
    "## According to this chart, the line shows the opposite of what I expected, meaning this regression suggests a small positive relationship between speed and size. The faster the wind, the larger the overall storm. "
   ]
  },
  {
   "cell_type": "markdown",
   "id": "9fa6be12",
   "metadata": {},
   "source": [
    "# Check the model performance statistics—MSE and R2."
   ]
  },
  {
   "cell_type": "code",
   "execution_count": 57,
   "id": "96d2636a",
   "metadata": {},
   "outputs": [],
   "source": [
    "rmse = mean_squared_error(y_test, y_predicted) # mean squared error\n",
    "r2 = r2_score(y_test, y_predicted) # R2 score. "
   ]
  },
  {
   "cell_type": "code",
   "execution_count": 58,
   "id": "eb92fe11",
   "metadata": {},
   "outputs": [
    {
     "name": "stdout",
     "output_type": "stream",
     "text": [
      "Slope: [[1.43448277]]\n",
      "Mean squared error:  11029.603000817126\n",
      "R2 score:  0.12828843132168355\n"
     ]
    }
   ],
   "source": [
    "# Print the model summary.\n",
    "\n",
    "print('Slope:' ,regression.coef_)\n",
    "print('Mean squared error: ', rmse)\n",
    "print('R2 score: ', r2)"
   ]
  },
  {
   "cell_type": "markdown",
   "id": "a996d415",
   "metadata": {},
   "source": [
    "# Compare the predicted y values with the actual y values in a dataframe."
   ]
  },
  {
   "cell_type": "code",
   "execution_count": 59,
   "id": "3f98da66",
   "metadata": {},
   "outputs": [
    {
     "data": {
      "text/plain": [
       "array([[104.76109416],\n",
       "       [ 90.41626644],\n",
       "       [ 33.03695558],\n",
       "       ...,\n",
       "       [ 54.55419715],\n",
       "       [ 47.38178329],\n",
       "       [ 40.20936944]])"
      ]
     },
     "execution_count": 59,
     "metadata": {},
     "output_type": "execute_result"
    }
   ],
   "source": [
    "y_predicted"
   ]
  },
  {
   "cell_type": "code",
   "execution_count": 60,
   "id": "16fd3a32",
   "metadata": {},
   "outputs": [
    {
     "data": {
      "text/html": [
       "<div>\n",
       "<style scoped>\n",
       "    .dataframe tbody tr th:only-of-type {\n",
       "        vertical-align: middle;\n",
       "    }\n",
       "\n",
       "    .dataframe tbody tr th {\n",
       "        vertical-align: top;\n",
       "    }\n",
       "\n",
       "    .dataframe thead th {\n",
       "        text-align: right;\n",
       "    }\n",
       "</style>\n",
       "<table border=\"1\" class=\"dataframe\">\n",
       "  <thead>\n",
       "    <tr style=\"text-align: right;\">\n",
       "      <th></th>\n",
       "      <th>Actual</th>\n",
       "      <th>Predicted</th>\n",
       "    </tr>\n",
       "  </thead>\n",
       "  <tbody>\n",
       "    <tr>\n",
       "      <th>0</th>\n",
       "      <td>160</td>\n",
       "      <td>104.761094</td>\n",
       "    </tr>\n",
       "    <tr>\n",
       "      <th>1</th>\n",
       "      <td>0</td>\n",
       "      <td>90.416266</td>\n",
       "    </tr>\n",
       "    <tr>\n",
       "      <th>2</th>\n",
       "      <td>0</td>\n",
       "      <td>33.036956</td>\n",
       "    </tr>\n",
       "    <tr>\n",
       "      <th>3</th>\n",
       "      <td>0</td>\n",
       "      <td>140.623163</td>\n",
       "    </tr>\n",
       "    <tr>\n",
       "      <th>4</th>\n",
       "      <td>0</td>\n",
       "      <td>54.554197</td>\n",
       "    </tr>\n",
       "    <tr>\n",
       "      <th>5</th>\n",
       "      <td>0</td>\n",
       "      <td>83.243853</td>\n",
       "    </tr>\n",
       "    <tr>\n",
       "      <th>6</th>\n",
       "      <td>0</td>\n",
       "      <td>90.416266</td>\n",
       "    </tr>\n",
       "    <tr>\n",
       "      <th>7</th>\n",
       "      <td>90</td>\n",
       "      <td>61.726611</td>\n",
       "    </tr>\n",
       "    <tr>\n",
       "      <th>8</th>\n",
       "      <td>0</td>\n",
       "      <td>25.864542</td>\n",
       "    </tr>\n",
       "    <tr>\n",
       "      <th>9</th>\n",
       "      <td>0</td>\n",
       "      <td>47.381783</td>\n",
       "    </tr>\n",
       "    <tr>\n",
       "      <th>10</th>\n",
       "      <td>230</td>\n",
       "      <td>104.761094</td>\n",
       "    </tr>\n",
       "    <tr>\n",
       "      <th>11</th>\n",
       "      <td>260</td>\n",
       "      <td>162.140405</td>\n",
       "    </tr>\n",
       "    <tr>\n",
       "      <th>12</th>\n",
       "      <td>0</td>\n",
       "      <td>97.588680</td>\n",
       "    </tr>\n",
       "    <tr>\n",
       "      <th>13</th>\n",
       "      <td>150</td>\n",
       "      <td>61.726611</td>\n",
       "    </tr>\n",
       "    <tr>\n",
       "      <th>14</th>\n",
       "      <td>0</td>\n",
       "      <td>68.899025</td>\n",
       "    </tr>\n",
       "    <tr>\n",
       "      <th>15</th>\n",
       "      <td>0</td>\n",
       "      <td>40.209369</td>\n",
       "    </tr>\n",
       "    <tr>\n",
       "      <th>16</th>\n",
       "      <td>0</td>\n",
       "      <td>33.036956</td>\n",
       "    </tr>\n",
       "    <tr>\n",
       "      <th>17</th>\n",
       "      <td>140</td>\n",
       "      <td>54.554197</td>\n",
       "    </tr>\n",
       "    <tr>\n",
       "      <th>18</th>\n",
       "      <td>170</td>\n",
       "      <td>68.899025</td>\n",
       "    </tr>\n",
       "    <tr>\n",
       "      <th>19</th>\n",
       "      <td>270</td>\n",
       "      <td>76.071439</td>\n",
       "    </tr>\n",
       "    <tr>\n",
       "      <th>20</th>\n",
       "      <td>120</td>\n",
       "      <td>61.726611</td>\n",
       "    </tr>\n",
       "    <tr>\n",
       "      <th>21</th>\n",
       "      <td>310</td>\n",
       "      <td>104.761094</td>\n",
       "    </tr>\n",
       "    <tr>\n",
       "      <th>22</th>\n",
       "      <td>180</td>\n",
       "      <td>61.726611</td>\n",
       "    </tr>\n",
       "    <tr>\n",
       "      <th>23</th>\n",
       "      <td>120</td>\n",
       "      <td>40.209369</td>\n",
       "    </tr>\n",
       "    <tr>\n",
       "      <th>24</th>\n",
       "      <td>90</td>\n",
       "      <td>47.381783</td>\n",
       "    </tr>\n",
       "    <tr>\n",
       "      <th>25</th>\n",
       "      <td>0</td>\n",
       "      <td>176.485233</td>\n",
       "    </tr>\n",
       "    <tr>\n",
       "      <th>26</th>\n",
       "      <td>250</td>\n",
       "      <td>198.002474</td>\n",
       "    </tr>\n",
       "    <tr>\n",
       "      <th>27</th>\n",
       "      <td>0</td>\n",
       "      <td>61.726611</td>\n",
       "    </tr>\n",
       "    <tr>\n",
       "      <th>28</th>\n",
       "      <td>290</td>\n",
       "      <td>119.105922</td>\n",
       "    </tr>\n",
       "    <tr>\n",
       "      <th>29</th>\n",
       "      <td>0</td>\n",
       "      <td>97.588680</td>\n",
       "    </tr>\n",
       "  </tbody>\n",
       "</table>\n",
       "</div>"
      ],
      "text/plain": [
       "    Actual   Predicted\n",
       "0      160  104.761094\n",
       "1        0   90.416266\n",
       "2        0   33.036956\n",
       "3        0  140.623163\n",
       "4        0   54.554197\n",
       "5        0   83.243853\n",
       "6        0   90.416266\n",
       "7       90   61.726611\n",
       "8        0   25.864542\n",
       "9        0   47.381783\n",
       "10     230  104.761094\n",
       "11     260  162.140405\n",
       "12       0   97.588680\n",
       "13     150   61.726611\n",
       "14       0   68.899025\n",
       "15       0   40.209369\n",
       "16       0   33.036956\n",
       "17     140   54.554197\n",
       "18     170   68.899025\n",
       "19     270   76.071439\n",
       "20     120   61.726611\n",
       "21     310  104.761094\n",
       "22     180   61.726611\n",
       "23     120   40.209369\n",
       "24      90   47.381783\n",
       "25       0  176.485233\n",
       "26     250  198.002474\n",
       "27       0   61.726611\n",
       "28     290  119.105922\n",
       "29       0   97.588680"
      ]
     },
     "execution_count": 60,
     "metadata": {},
     "output_type": "execute_result"
    }
   ],
   "source": [
    "# Create a dataframe comparing the actual and predicted values of y.\n",
    "\n",
    "data = pd.DataFrame({'Actual': y_test.flatten(), 'Predicted': y_predicted.flatten()})\n",
    "data.head(30)"
   ]
  },
  {
   "cell_type": "markdown",
   "id": "fa8aba30",
   "metadata": {},
   "source": [
    "# Include your thoughts on how well the model performed on the test set in a markdown cell.\n",
    "## Include any reflections you have on the impact of possible data bias."
   ]
  },
  {
   "cell_type": "markdown",
   "id": "ababf60e",
   "metadata": {},
   "source": [
    "## The created dataframe comparing actual to predicted values shows a large discrepancy because of a high prevalence of zero values, suggesting this model is insufficient to determine a correlation of wind speed to size. With this observation and the R2 score being 0.13 (rounded), there is barely any relationship between these variables. However, filtering out the zeros from and combining the force wind diameter columns of tropical storms and hurricanes should provide a more accurate regression between them. This is because wind speed alone determines a storm's classification, meaning any value denoting a tropical storm's diameter would yield a zero within the hurricane diameter column and vice versa, since a storm can only be either one or the other and not both at the same time. "
   ]
  },
  {
   "cell_type": "code",
   "execution_count": null,
   "id": "68805eaf",
   "metadata": {},
   "outputs": [],
   "source": []
  }
 ],
 "metadata": {
  "kernelspec": {
   "display_name": "Python 3 (ipykernel)",
   "language": "python",
   "name": "python3"
  },
  "language_info": {
   "codemirror_mode": {
    "name": "ipython",
    "version": 3
   },
   "file_extension": ".py",
   "mimetype": "text/x-python",
   "name": "python",
   "nbconvert_exporter": "python",
   "pygments_lexer": "ipython3",
   "version": "3.9.12"
  }
 },
 "nbformat": 4,
 "nbformat_minor": 5
}
